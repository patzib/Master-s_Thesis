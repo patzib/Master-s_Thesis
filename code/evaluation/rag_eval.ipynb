{
 "cells": [
  {
   "cell_type": "code",
   "execution_count": null,
   "id": "5649fe07-f740-4666-8046-a0f851ffa003",
   "metadata": {},
   "outputs": [],
   "source": [
    "\"\"\"\n",
    "rag_eval.ipynb\n",
    "\n",
    "This script automates the process of evaluating the RAG chatbot against a\n",
    "pre-defined ground truth dataset. It initializes the full RAG pipeline,\n",
    "iterates through each question in the dataset, and records the chatbot's\n",
    "generated answer, the retrieved context, and the response time.\n",
    "\n",
    "The final output is a CSV file containing the results, which can then be\n",
    "used for scoring and analysis (e.g., with an LLM-as-a-Judge).\n",
    "\"\"\""
   ]
  },
  {
   "cell_type": "code",
   "execution_count": 1,
   "id": "64568ab8-7a82-457f-b1bc-2f337841e171",
   "metadata": {},
   "outputs": [],
   "source": [
    "# ==================================================================================================\n",
    "# --- 1. Import Dependencies ---\n",
    "# ==================================================================================================\n",
    "import pandas as pd\n",
    "import json\n",
    "import time\n",
    "import sys\n",
    "import logging\n",
    "from pathlib import Path\n",
    "from types import SimpleNamespace\n",
    "\n",
    "# --- Define Project Root and Add to Python Path ---\n",
    "project_code_root = Path.cwd().parent.resolve()\n",
    "\n",
    "if str(project_code_root) not in sys.path:\n",
    "        sys.path.append(str(project_code_root))\n",
    "    \n",
    "from core.rag_setup import setup_chatbot\n",
    "from core import config"
   ]
  },
  {
   "cell_type": "code",
   "execution_count": 2,
   "id": "05794b21-67b7-45c0-8670-74fec2b85114",
   "metadata": {},
   "outputs": [],
   "source": [
    "# ==================================================================================================\n",
    "# --- 2. Logging Configuration ---\n",
    "# ==================================================================================================\n",
    "logging.basicConfig(\n",
    "    level=logging.INFO,\n",
    "    format='%(asctime)s - [%(levelname)s] - %(message)s',\n",
    "    datefmt='%Y-%m-%d %H:%M:%S'\n",
    ")"
   ]
  },
  {
   "cell_type": "code",
   "execution_count": 3,
   "id": "d173d87f-7bf6-4fe4-9925-858e761ea5b0",
   "metadata": {},
   "outputs": [],
   "source": [
    "# ==================================================================================================\n",
    "# --- 3. Core Evaluation Functions ---\n",
    "# ==================================================================================================\n",
    "\n",
    "def run_evaluation_pipeline(chain, dataset: pd.DataFrame) -> pd.DataFrame:\n",
    "    \"\"\"\n",
    "    Processes each question in the dataset using the RAG chain and collects results.\n",
    "\n",
    "    Args:\n",
    "        chain: The initialized ConversationalRetrievalChain object.\n",
    "        dataset (pd.DataFrame): The DataFrame containing the ground truth questions and answers.\n",
    "\n",
    "    Returns:\n",
    "        pd.DataFrame: A DataFrame with the evaluation results.\n",
    "    \"\"\"\n",
    "    results = []\n",
    "    total_questions = len(dataset)\n",
    "    logging.info(f\"Starting evaluation for {total_questions} questions...\")\n",
    "\n",
    "    for index, row in dataset.iterrows():\n",
    "        try:\n",
    "            # The source CSV contains JSON strings; they must be parsed.\n",
    "            question_json = json.loads(row['question'])\n",
    "            ground_truth_json = json.loads(row['expected_answer'])\n",
    "\n",
    "            question_text = question_json['question']\n",
    "            ground_truth_answer_text = ground_truth_json['expected_answer']\n",
    "\n",
    "            # --- Query RAG System and Measure Latency ---\n",
    "            start_time = time.time()\n",
    "            response = chain.invoke(question_text)\n",
    "            end_time = time.time()\n",
    "            response_time = end_time - start_time\n",
    "\n",
    "            # --- Extract and Structure Data ---\n",
    "            generated_answer = response.get('answer', 'Error: No answer found.')\n",
    "            retrieved_context = \" \".join([doc.page_content for doc in response.get('source_documents', [])])\n",
    "\n",
    "            results.append({\n",
    "                \"question\": question_text,\n",
    "                \"ground_truth_answer\": ground_truth_answer_text,\n",
    "                \"generated_answer\": generated_answer,\n",
    "                \"retrieved_context\": retrieved_context,\n",
    "                \"response_time_seconds\": response_time\n",
    "            })\n",
    "            logging.info(f\"Processed question {index + 1}/{total_questions} in {response_time:.2f} seconds\")\n",
    "\n",
    "        except Exception as e:\n",
    "            logging.error(f\"Failed to process question at index {index}: {e}\")\n",
    "            # Append a row indicating the error to maintain dataset alignment.\n",
    "            results.append({\n",
    "                \"question\": question_text,\n",
    "                \"ground_truth_answer\": ground_truth_answer_text,\n",
    "                \"generated_answer\": f\"ERROR: {e}\",\n",
    "                \"retrieved_context\": \"\",\n",
    "                \"response_time_seconds\": 0\n",
    "            })\n",
    "\n",
    "    return pd.DataFrame(results)"
   ]
  },
  {
   "cell_type": "code",
   "execution_count": 4,
   "id": "bf0189aa-9143-4bd2-adea-301d1ac0eff9",
   "metadata": {},
   "outputs": [],
   "source": [
    "def main():\n",
    "    \"\"\"\n",
    "    Main function to orchestrate the entire evaluation process.\n",
    "    \"\"\"\n",
    "    project_root = Path.cwd().parent.parent.resolve()\n",
    "    total_start_time = time.time()\n",
    "    \n",
    "\n",
    "    # Define input and output paths for this evaluation run.\n",
    "    input_csv_path = project_root / \"evaluation_data\" / \"ground_truth_dataset.csv\"\n",
    "    output_csv_path = project_root / \"evaluation_data\" / \"rag_eval_generated_answers.csv\"\n",
    "    output_csv_path.parent.mkdir(parents=True, exist_ok=True) # Ensure output directory exists\n",
    "\n",
    "    try:\n",
    "        # --- Initialization ---\n",
    "        logging.info(\"Initializing RAG system with evaluation configuration...\")\n",
    "        chain, _, _ = setup_chatbot(config)\n",
    "        logging.info(\"RAG system initialization complete.\")\n",
    "\n",
    "        # --- Data Loading ---\n",
    "        logging.info(f\"Loading ground truth dataset from: {input_csv_path}\")\n",
    "        qa_dataset = pd.read_csv(input_csv_path)\n",
    "\n",
    "        # --- Pipeline Execution ---\n",
    "        evaluation_results_df = run_evaluation_pipeline(chain, qa_dataset)\n",
    "\n",
    "        # --- Save Results ---\n",
    "        logging.info(f\"Saving evaluation results to: {output_csv_path}\")\n",
    "        evaluation_results_df.to_csv(output_csv_path, index=False, encoding=\"utf-8-sig\")\n",
    "        \n",
    "        total_end_time = time.time()\n",
    "        logging.info(f\"Evaluation script finished successfully in {total_end_time - total_start_time:.2f} seconds.\")\n",
    "\n",
    "    except FileNotFoundError as e:\n",
    "        logging.error(f\"File not found: {e}. Please ensure all paths are correct.\")\n",
    "    except Exception as e:\n",
    "        logging.error(f\"An unexpected error occurred during the evaluation: {e}\")"
   ]
  },
  {
   "cell_type": "code",
   "execution_count": 5,
   "id": "e48822d2-d5fe-412b-9b5e-ee85e81b35b7",
   "metadata": {
    "scrolled": true
   },
   "outputs": [
    {
     "name": "stderr",
     "output_type": "stream",
     "text": [
      "2025-09-10 17:44:55 - [INFO] - Initializing RAG system with evaluation configuration...\n",
      "2025-09-10 17:44:55 - [INFO] - --- Starting Full RAG Chatbot System Setup ---\n",
      "2025-09-10 17:44:55 - [INFO] - Executing external pre-processing script: C:\\Master's_Thesis\\code\\core\\pre-processing.py...\n",
      "2025-09-10 17:44:58 - [INFO] - Pre-processing script completed successfully.\n",
      "2025-09-10 17:44:58 - [WARNING] - SCRIPT STDERR: 2025-09-10 17:44:58,057 - [INFO] - HTTP Request: POST http://127.0.0.1:11434/api/show \"HTTP/1.1 200 OK\"\n",
      "2025-09-10 17:44:58,059 - [INFO] - Successfully connected to Ollama and found model 'gemma3:4b'.\n",
      "2025-09-10 17:44:58,060 - [INFO] - Output for 'CRISP_Paper.pdf' already exists. Skipping.\n",
      "2025-09-10 17:44:58,060 - [INFO] - Output for 'Ethics_Discrimination_algo_bias.pdf' already exists. Skipping.\n",
      "2025-09-10 17:44:58,060 - [INFO] - Output for 'Feedback Loops in Machine Learning_ A Study on the Interplay of.pdf' already exists. Skipping.\n",
      "2025-09-10 17:44:58,060 - [INFO] - Output for 'lecture_01.pdf' already exists. Skipping.\n",
      "2025-09-10 17:44:58,061 - [INFO] - Output for 'lecture_02.pdf' already exists. Skipping.\n",
      "2025-09-10 17:44:58,061 - [INFO] - Output for 'lecture_02_transcript.txt' already exists. Skipping.\n",
      "2025-09-10 17:44:58,061 - [INFO] - Output for 'lecture_03.pdf' already exists. Skipping.\n",
      "2025-09-10 17:44:58,061 - [INFO] - Output for 'lecture_03_transcript.txt' already exists. Skipping.\n",
      "2025-09-10 17:44:58,061 - [INFO] - Output for 'lecture_04.pdf' already exists. Skipping.\n",
      "2025-09-10 17:44:58,061 - [INFO] - Output for 'lecture_05.pdf' already exists. Skipping.\n",
      "2025-09-10 17:44:58,061 - [INFO] - Output for 'lecture_05_transcript.txt' already exists. Skipping.\n",
      "2025-09-10 17:44:58,062 - [INFO] - Output for 'lecture_06.pdf' already exists. Skipping.\n",
      "2025-09-10 17:44:58,062 - [INFO] - Output for 'lecture_07.pdf' already exists. Skipping.\n",
      "2025-09-10 17:44:58,062 - [INFO] - Output for 'lecture_08.pdf' already exists. Skipping.\n",
      "2025-09-10 17:44:58,062 - [INFO] - Output for 'lecture_09.pdf' already exists. Skipping.\n",
      "2025-09-10 17:44:58,062 - [INFO] - Output for 'lecture_10.pdf' already exists. Skipping.\n",
      "2025-09-10 17:44:58,062 - [INFO] - Output for 'lecture_11.pdf' already exists. Skipping.\n",
      "2025-09-10 17:44:58,062 - [INFO] - Output for 'lecture_information.txt' already exists. Skipping.\n",
      "2025-09-10 17:44:58,062 - [INFO] - Output for 'von-zahn-et-al-2024-smart-green-nudging-reducing-product-returns-through-digital-footprints-and-causal-machine-learning.pdf' already exists. Skipping.\n",
      "\n",
      "2025-09-10 17:44:58 - [INFO] - Initializing Ollama model...\n",
      "2025-09-10 17:44:58 - [INFO] - HTTP Request: GET http://127.0.0.1:11434/api/tags \"HTTP/1.1 200 OK\"\n",
      "2025-09-10 17:44:58 - [INFO] - Model 'MLME_chatbot_chunk_dif' not found. Creating it now...\n",
      "2025-09-10 17:44:58 - [INFO] - HTTP Request: POST http://127.0.0.1:11434/api/create \"HTTP/1.1 200 OK\"\n",
      "2025-09-10 17:44:58 - [INFO] - Custom model 'MLME_chatbot_chunk_dif' created successfully.\n",
      "2025-09-10 17:44:58 - [INFO] - Initializing embedding model: sentence-transformers/paraphrase-multilingual-MiniLM-L12-v2\n",
      "2025-09-10 17:45:03 - [INFO] - Load pretrained SentenceTransformer: sentence-transformers/paraphrase-multilingual-MiniLM-L12-v2\n",
      "2025-09-10 17:45:09 - [INFO] - Anonymized telemetry enabled. See                     https://docs.trychroma.com/telemetry for more information.\n",
      "2025-09-10 17:45:10 - [INFO] - Vector database is up-to-date. No new documents to ingest.\n",
      "2025-09-10 17:45:10 - [INFO] - Initializing re-ranker model: mixedbread-ai/mxbai-rerank-xsmall-v1\n",
      "2025-09-10 17:45:11 - [INFO] - Use pytorch device: cuda\n",
      "2025-09-10 17:45:11 - [INFO] - Re-ranking retriever created. Will retrieve 12 docs and keep the top 6.\n",
      "C:\\Master's_Thesis\\code\\core\\rag_setup.py:361: LangChainDeprecationWarning: Please see the migration guide at: https://python.langchain.com/docs/versions/migrating_memory/\n",
      "  memory = ConversationBufferWindowMemory(\n",
      "2025-09-10 17:45:11 - [INFO] - Creating the conversational retrieval chain...\n",
      "2025-09-10 17:45:11 - [INFO] - Conversational chain created successfully.\n",
      "2025-09-10 17:45:11 - [INFO] - --- RAG Chatbot Setup Complete ---\n",
      "2025-09-10 17:45:11 - [INFO] - RAG system initialization complete.\n",
      "2025-09-10 17:45:11 - [INFO] - Loading ground truth dataset from: C:\\Master's_Thesis\\evaluation_data\\ground_truth_dataset.csv\n",
      "2025-09-10 17:45:11 - [INFO] - Starting evaluation for 110 questions...\n"
     ]
    },
    {
     "data": {
      "application/vnd.jupyter.widget-view+json": {
       "model_id": "d8099ac8bf4746a285f25d664cb682f1",
       "version_major": 2,
       "version_minor": 0
      },
      "text/plain": [
       "Batches:   0%|          | 0/1 [00:00<?, ?it/s]"
      ]
     },
     "metadata": {},
     "output_type": "display_data"
    },
    {
     "name": "stderr",
     "output_type": "stream",
     "text": [
      "2025-09-10 17:45:14 - [INFO] - HTTP Request: POST http://127.0.0.1:11434/api/chat \"HTTP/1.1 200 OK\"\n",
      "2025-09-10 17:45:17 - [INFO] - Processed question 1/110 in 6.17 seconds\n",
      "2025-09-10 17:45:18 - [INFO] - HTTP Request: POST http://127.0.0.1:11434/api/chat \"HTTP/1.1 200 OK\"\n"
     ]
    },
    {
     "data": {
      "application/vnd.jupyter.widget-view+json": {
       "model_id": "1d8fe1ce459246c5aba8bf7a9b252add",
       "version_major": 2,
       "version_minor": 0
      },
      "text/plain": [
       "Batches:   0%|          | 0/1 [00:00<?, ?it/s]"
      ]
     },
     "metadata": {},
     "output_type": "display_data"
    },
    {
     "name": "stderr",
     "output_type": "stream",
     "text": [
      "2025-09-10 17:45:22 - [INFO] - HTTP Request: POST http://127.0.0.1:11434/api/chat \"HTTP/1.1 200 OK\"\n",
      "2025-09-10 17:45:27 - [INFO] - Processed question 2/110 in 9.78 seconds\n",
      "2025-09-10 17:45:28 - [INFO] - HTTP Request: POST http://127.0.0.1:11434/api/chat \"HTTP/1.1 200 OK\"\n"
     ]
    },
    {
     "data": {
      "application/vnd.jupyter.widget-view+json": {
       "model_id": "5995878088b24e07a45d98dffe35f6b3",
       "version_major": 2,
       "version_minor": 0
      },
      "text/plain": [
       "Batches:   0%|          | 0/1 [00:00<?, ?it/s]"
      ]
     },
     "metadata": {},
     "output_type": "display_data"
    },
    {
     "name": "stderr",
     "output_type": "stream",
     "text": [
      "2025-09-10 17:45:31 - [INFO] - HTTP Request: POST http://127.0.0.1:11434/api/chat \"HTTP/1.1 200 OK\"\n",
      "2025-09-10 17:45:34 - [INFO] - Processed question 3/110 in 7.25 seconds\n",
      "2025-09-10 17:45:35 - [INFO] - HTTP Request: POST http://127.0.0.1:11434/api/chat \"HTTP/1.1 200 OK\"\n"
     ]
    },
    {
     "data": {
      "application/vnd.jupyter.widget-view+json": {
       "model_id": "21fd340c6b76411c82ae28768cc18341",
       "version_major": 2,
       "version_minor": 0
      },
      "text/plain": [
       "Batches:   0%|          | 0/1 [00:00<?, ?it/s]"
      ]
     },
     "metadata": {},
     "output_type": "display_data"
    },
    {
     "name": "stderr",
     "output_type": "stream",
     "text": [
      "2025-09-10 17:45:39 - [INFO] - HTTP Request: POST http://127.0.0.1:11434/api/chat \"HTTP/1.1 200 OK\"\n",
      "2025-09-10 17:45:42 - [INFO] - Processed question 4/110 in 7.24 seconds\n",
      "2025-09-10 17:45:43 - [INFO] - HTTP Request: POST http://127.0.0.1:11434/api/chat \"HTTP/1.1 200 OK\"\n"
     ]
    },
    {
     "data": {
      "application/vnd.jupyter.widget-view+json": {
       "model_id": "ca43c0286b30475797a84d01705f0094",
       "version_major": 2,
       "version_minor": 0
      },
      "text/plain": [
       "Batches:   0%|          | 0/1 [00:00<?, ?it/s]"
      ]
     },
     "metadata": {},
     "output_type": "display_data"
    },
    {
     "name": "stderr",
     "output_type": "stream",
     "text": [
      "2025-09-10 17:45:46 - [INFO] - HTTP Request: POST http://127.0.0.1:11434/api/chat \"HTTP/1.1 200 OK\"\n",
      "2025-09-10 17:45:49 - [INFO] - Processed question 5/110 in 7.39 seconds\n",
      "2025-09-10 17:45:50 - [INFO] - HTTP Request: POST http://127.0.0.1:11434/api/chat \"HTTP/1.1 200 OK\"\n"
     ]
    },
    {
     "data": {
      "application/vnd.jupyter.widget-view+json": {
       "model_id": "2b9b543da7924e68a3156d96eef157ec",
       "version_major": 2,
       "version_minor": 0
      },
      "text/plain": [
       "Batches:   0%|          | 0/1 [00:00<?, ?it/s]"
      ]
     },
     "metadata": {},
     "output_type": "display_data"
    },
    {
     "name": "stderr",
     "output_type": "stream",
     "text": [
      "2025-09-10 17:45:54 - [INFO] - HTTP Request: POST http://127.0.0.1:11434/api/chat \"HTTP/1.1 200 OK\"\n",
      "2025-09-10 17:45:56 - [INFO] - Processed question 6/110 in 6.62 seconds\n",
      "2025-09-10 17:45:57 - [INFO] - HTTP Request: POST http://127.0.0.1:11434/api/chat \"HTTP/1.1 200 OK\"\n"
     ]
    },
    {
     "data": {
      "application/vnd.jupyter.widget-view+json": {
       "model_id": "d9b87dd5920448c48977da8b3f59a213",
       "version_major": 2,
       "version_minor": 0
      },
      "text/plain": [
       "Batches:   0%|          | 0/1 [00:00<?, ?it/s]"
      ]
     },
     "metadata": {},
     "output_type": "display_data"
    },
    {
     "name": "stderr",
     "output_type": "stream",
     "text": [
      "2025-09-10 17:46:00 - [INFO] - HTTP Request: POST http://127.0.0.1:11434/api/chat \"HTTP/1.1 200 OK\"\n",
      "2025-09-10 17:46:03 - [INFO] - Processed question 7/110 in 7.73 seconds\n",
      "2025-09-10 17:46:04 - [INFO] - HTTP Request: POST http://127.0.0.1:11434/api/chat \"HTTP/1.1 200 OK\"\n"
     ]
    },
    {
     "data": {
      "application/vnd.jupyter.widget-view+json": {
       "model_id": "8232cbe272584583845a8fc7cd280146",
       "version_major": 2,
       "version_minor": 0
      },
      "text/plain": [
       "Batches:   0%|          | 0/1 [00:00<?, ?it/s]"
      ]
     },
     "metadata": {},
     "output_type": "display_data"
    },
    {
     "name": "stderr",
     "output_type": "stream",
     "text": [
      "2025-09-10 17:46:08 - [INFO] - HTTP Request: POST http://127.0.0.1:11434/api/chat \"HTTP/1.1 200 OK\"\n",
      "2025-09-10 17:46:10 - [INFO] - Processed question 8/110 in 6.52 seconds\n",
      "2025-09-10 17:46:11 - [INFO] - HTTP Request: POST http://127.0.0.1:11434/api/chat \"HTTP/1.1 200 OK\"\n"
     ]
    },
    {
     "data": {
      "application/vnd.jupyter.widget-view+json": {
       "model_id": "3bf10247102846838870a264dbc3a920",
       "version_major": 2,
       "version_minor": 0
      },
      "text/plain": [
       "Batches:   0%|          | 0/1 [00:00<?, ?it/s]"
      ]
     },
     "metadata": {},
     "output_type": "display_data"
    },
    {
     "name": "stderr",
     "output_type": "stream",
     "text": [
      "2025-09-10 17:46:14 - [INFO] - HTTP Request: POST http://127.0.0.1:11434/api/chat \"HTTP/1.1 200 OK\"\n",
      "2025-09-10 17:46:18 - [INFO] - Processed question 9/110 in 8.21 seconds\n",
      "2025-09-10 17:46:19 - [INFO] - HTTP Request: POST http://127.0.0.1:11434/api/chat \"HTTP/1.1 200 OK\"\n"
     ]
    },
    {
     "data": {
      "application/vnd.jupyter.widget-view+json": {
       "model_id": "3b6f1adc231b49f98e6c10205a7cf004",
       "version_major": 2,
       "version_minor": 0
      },
      "text/plain": [
       "Batches:   0%|          | 0/1 [00:00<?, ?it/s]"
      ]
     },
     "metadata": {},
     "output_type": "display_data"
    },
    {
     "name": "stderr",
     "output_type": "stream",
     "text": [
      "2025-09-10 17:46:22 - [INFO] - HTTP Request: POST http://127.0.0.1:11434/api/chat \"HTTP/1.1 200 OK\"\n",
      "2025-09-10 17:46:26 - [INFO] - Processed question 10/110 in 7.53 seconds\n",
      "2025-09-10 17:46:27 - [INFO] - HTTP Request: POST http://127.0.0.1:11434/api/chat \"HTTP/1.1 200 OK\"\n"
     ]
    },
    {
     "data": {
      "application/vnd.jupyter.widget-view+json": {
       "model_id": "dba2586a4f124d1d9dc1792990c60b1d",
       "version_major": 2,
       "version_minor": 0
      },
      "text/plain": [
       "Batches:   0%|          | 0/1 [00:00<?, ?it/s]"
      ]
     },
     "metadata": {},
     "output_type": "display_data"
    },
    {
     "name": "stderr",
     "output_type": "stream",
     "text": [
      "2025-09-10 17:46:30 - [INFO] - HTTP Request: POST http://127.0.0.1:11434/api/chat \"HTTP/1.1 200 OK\"\n",
      "2025-09-10 17:46:33 - [INFO] - Processed question 11/110 in 7.00 seconds\n",
      "2025-09-10 17:46:34 - [INFO] - HTTP Request: POST http://127.0.0.1:11434/api/chat \"HTTP/1.1 200 OK\"\n"
     ]
    },
    {
     "data": {
      "application/vnd.jupyter.widget-view+json": {
       "model_id": "60c3276d9e3a4629a9a0a014d829575b",
       "version_major": 2,
       "version_minor": 0
      },
      "text/plain": [
       "Batches:   0%|          | 0/1 [00:00<?, ?it/s]"
      ]
     },
     "metadata": {},
     "output_type": "display_data"
    },
    {
     "name": "stderr",
     "output_type": "stream",
     "text": [
      "2025-09-10 17:46:37 - [INFO] - HTTP Request: POST http://127.0.0.1:11434/api/chat \"HTTP/1.1 200 OK\"\n",
      "2025-09-10 17:46:41 - [INFO] - Processed question 12/110 in 7.87 seconds\n",
      "2025-09-10 17:46:42 - [INFO] - HTTP Request: POST http://127.0.0.1:11434/api/chat \"HTTP/1.1 200 OK\"\n"
     ]
    },
    {
     "data": {
      "application/vnd.jupyter.widget-view+json": {
       "model_id": "7f0f16b5c6464f38a71b97578268d0f5",
       "version_major": 2,
       "version_minor": 0
      },
      "text/plain": [
       "Batches:   0%|          | 0/1 [00:00<?, ?it/s]"
      ]
     },
     "metadata": {},
     "output_type": "display_data"
    },
    {
     "name": "stderr",
     "output_type": "stream",
     "text": [
      "2025-09-10 17:46:46 - [INFO] - HTTP Request: POST http://127.0.0.1:11434/api/chat \"HTTP/1.1 200 OK\"\n",
      "2025-09-10 17:46:53 - [INFO] - Processed question 13/110 in 12.98 seconds\n",
      "2025-09-10 17:46:55 - [INFO] - HTTP Request: POST http://127.0.0.1:11434/api/chat \"HTTP/1.1 200 OK\"\n"
     ]
    },
    {
     "data": {
      "application/vnd.jupyter.widget-view+json": {
       "model_id": "564c4898f46b4aa7a8b6a2d1ed72a51c",
       "version_major": 2,
       "version_minor": 0
      },
      "text/plain": [
       "Batches:   0%|          | 0/1 [00:00<?, ?it/s]"
      ]
     },
     "metadata": {},
     "output_type": "display_data"
    },
    {
     "name": "stderr",
     "output_type": "stream",
     "text": [
      "2025-09-10 17:46:57 - [INFO] - HTTP Request: POST http://127.0.0.1:11434/api/chat \"HTTP/1.1 200 OK\"\n",
      "2025-09-10 17:47:09 - [INFO] - Processed question 14/110 in 15.67 seconds\n",
      "2025-09-10 17:47:11 - [INFO] - HTTP Request: POST http://127.0.0.1:11434/api/chat \"HTTP/1.1 200 OK\"\n"
     ]
    },
    {
     "data": {
      "application/vnd.jupyter.widget-view+json": {
       "model_id": "4c935cf8d5b34767a022739df6f9fd0f",
       "version_major": 2,
       "version_minor": 0
      },
      "text/plain": [
       "Batches:   0%|          | 0/1 [00:00<?, ?it/s]"
      ]
     },
     "metadata": {},
     "output_type": "display_data"
    },
    {
     "name": "stderr",
     "output_type": "stream",
     "text": [
      "2025-09-10 17:47:14 - [INFO] - HTTP Request: POST http://127.0.0.1:11434/api/chat \"HTTP/1.1 200 OK\"\n",
      "2025-09-10 17:47:17 - [INFO] - Processed question 15/110 in 7.62 seconds\n",
      "2025-09-10 17:47:18 - [INFO] - HTTP Request: POST http://127.0.0.1:11434/api/chat \"HTTP/1.1 200 OK\"\n"
     ]
    },
    {
     "data": {
      "application/vnd.jupyter.widget-view+json": {
       "model_id": "beefd73809d049c2b009f5a934a7edf8",
       "version_major": 2,
       "version_minor": 0
      },
      "text/plain": [
       "Batches:   0%|          | 0/1 [00:00<?, ?it/s]"
      ]
     },
     "metadata": {},
     "output_type": "display_data"
    },
    {
     "name": "stderr",
     "output_type": "stream",
     "text": [
      "2025-09-10 17:47:20 - [INFO] - HTTP Request: POST http://127.0.0.1:11434/api/chat \"HTTP/1.1 200 OK\"\n",
      "2025-09-10 17:47:25 - [INFO] - Processed question 16/110 in 8.05 seconds\n",
      "2025-09-10 17:47:26 - [INFO] - HTTP Request: POST http://127.0.0.1:11434/api/chat \"HTTP/1.1 200 OK\"\n"
     ]
    },
    {
     "data": {
      "application/vnd.jupyter.widget-view+json": {
       "model_id": "c5994fa454e34fd9b940f9dbae0efa14",
       "version_major": 2,
       "version_minor": 0
      },
      "text/plain": [
       "Batches:   0%|          | 0/1 [00:00<?, ?it/s]"
      ]
     },
     "metadata": {},
     "output_type": "display_data"
    },
    {
     "name": "stderr",
     "output_type": "stream",
     "text": [
      "2025-09-10 17:47:29 - [INFO] - HTTP Request: POST http://127.0.0.1:11434/api/chat \"HTTP/1.1 200 OK\"\n",
      "2025-09-10 17:47:31 - [INFO] - Processed question 17/110 in 6.30 seconds\n",
      "2025-09-10 17:47:32 - [INFO] - HTTP Request: POST http://127.0.0.1:11434/api/chat \"HTTP/1.1 200 OK\"\n"
     ]
    },
    {
     "data": {
      "application/vnd.jupyter.widget-view+json": {
       "model_id": "fb90ff0bb973435b9ab2e7fb431cd36b",
       "version_major": 2,
       "version_minor": 0
      },
      "text/plain": [
       "Batches:   0%|          | 0/1 [00:00<?, ?it/s]"
      ]
     },
     "metadata": {},
     "output_type": "display_data"
    },
    {
     "name": "stderr",
     "output_type": "stream",
     "text": [
      "2025-09-10 17:47:35 - [INFO] - HTTP Request: POST http://127.0.0.1:11434/api/chat \"HTTP/1.1 200 OK\"\n",
      "2025-09-10 17:47:38 - [INFO] - Processed question 18/110 in 7.07 seconds\n",
      "2025-09-10 17:47:39 - [INFO] - HTTP Request: POST http://127.0.0.1:11434/api/chat \"HTTP/1.1 200 OK\"\n"
     ]
    },
    {
     "data": {
      "application/vnd.jupyter.widget-view+json": {
       "model_id": "3652ae12ac814066a073b81873cc4920",
       "version_major": 2,
       "version_minor": 0
      },
      "text/plain": [
       "Batches:   0%|          | 0/1 [00:00<?, ?it/s]"
      ]
     },
     "metadata": {},
     "output_type": "display_data"
    },
    {
     "name": "stderr",
     "output_type": "stream",
     "text": [
      "2025-09-10 17:47:42 - [INFO] - HTTP Request: POST http://127.0.0.1:11434/api/chat \"HTTP/1.1 200 OK\"\n",
      "2025-09-10 17:47:44 - [INFO] - Processed question 19/110 in 5.49 seconds\n",
      "2025-09-10 17:47:45 - [INFO] - HTTP Request: POST http://127.0.0.1:11434/api/chat \"HTTP/1.1 200 OK\"\n"
     ]
    },
    {
     "data": {
      "application/vnd.jupyter.widget-view+json": {
       "model_id": "45c0f0cc5c7740278602e6d59558c5d3",
       "version_major": 2,
       "version_minor": 0
      },
      "text/plain": [
       "Batches:   0%|          | 0/1 [00:00<?, ?it/s]"
      ]
     },
     "metadata": {},
     "output_type": "display_data"
    },
    {
     "name": "stderr",
     "output_type": "stream",
     "text": [
      "2025-09-10 17:47:48 - [INFO] - HTTP Request: POST http://127.0.0.1:11434/api/chat \"HTTP/1.1 200 OK\"\n",
      "2025-09-10 17:47:51 - [INFO] - Processed question 20/110 in 7.32 seconds\n",
      "2025-09-10 17:47:52 - [INFO] - HTTP Request: POST http://127.0.0.1:11434/api/chat \"HTTP/1.1 200 OK\"\n"
     ]
    },
    {
     "data": {
      "application/vnd.jupyter.widget-view+json": {
       "model_id": "fbfafe1db7424ad8ab266046029272c7",
       "version_major": 2,
       "version_minor": 0
      },
      "text/plain": [
       "Batches:   0%|          | 0/1 [00:00<?, ?it/s]"
      ]
     },
     "metadata": {},
     "output_type": "display_data"
    },
    {
     "name": "stderr",
     "output_type": "stream",
     "text": [
      "2025-09-10 17:47:55 - [INFO] - HTTP Request: POST http://127.0.0.1:11434/api/chat \"HTTP/1.1 200 OK\"\n",
      "2025-09-10 17:47:58 - [INFO] - Processed question 21/110 in 6.93 seconds\n",
      "2025-09-10 17:47:59 - [INFO] - HTTP Request: POST http://127.0.0.1:11434/api/chat \"HTTP/1.1 200 OK\"\n"
     ]
    },
    {
     "data": {
      "application/vnd.jupyter.widget-view+json": {
       "model_id": "a70c6a448394457f9c8853f8fdde49e7",
       "version_major": 2,
       "version_minor": 0
      },
      "text/plain": [
       "Batches:   0%|          | 0/1 [00:00<?, ?it/s]"
      ]
     },
     "metadata": {},
     "output_type": "display_data"
    },
    {
     "name": "stderr",
     "output_type": "stream",
     "text": [
      "2025-09-10 17:48:02 - [INFO] - HTTP Request: POST http://127.0.0.1:11434/api/chat \"HTTP/1.1 200 OK\"\n",
      "2025-09-10 17:48:05 - [INFO] - Processed question 22/110 in 7.14 seconds\n",
      "2025-09-10 17:48:06 - [INFO] - HTTP Request: POST http://127.0.0.1:11434/api/chat \"HTTP/1.1 200 OK\"\n"
     ]
    },
    {
     "data": {
      "application/vnd.jupyter.widget-view+json": {
       "model_id": "c4becdfdc4bc4c4f8c2589dd56c34df0",
       "version_major": 2,
       "version_minor": 0
      },
      "text/plain": [
       "Batches:   0%|          | 0/1 [00:00<?, ?it/s]"
      ]
     },
     "metadata": {},
     "output_type": "display_data"
    },
    {
     "name": "stderr",
     "output_type": "stream",
     "text": [
      "2025-09-10 17:48:09 - [INFO] - HTTP Request: POST http://127.0.0.1:11434/api/chat \"HTTP/1.1 200 OK\"\n",
      "2025-09-10 17:48:13 - [INFO] - Processed question 23/110 in 7.85 seconds\n",
      "2025-09-10 17:48:14 - [INFO] - HTTP Request: POST http://127.0.0.1:11434/api/chat \"HTTP/1.1 200 OK\"\n"
     ]
    },
    {
     "data": {
      "application/vnd.jupyter.widget-view+json": {
       "model_id": "0eb2394179794ef8a9ff6c23f389b028",
       "version_major": 2,
       "version_minor": 0
      },
      "text/plain": [
       "Batches:   0%|          | 0/1 [00:00<?, ?it/s]"
      ]
     },
     "metadata": {},
     "output_type": "display_data"
    },
    {
     "name": "stderr",
     "output_type": "stream",
     "text": [
      "2025-09-10 17:48:16 - [INFO] - HTTP Request: POST http://127.0.0.1:11434/api/chat \"HTTP/1.1 200 OK\"\n",
      "2025-09-10 17:48:17 - [INFO] - Processed question 24/110 in 4.05 seconds\n",
      "2025-09-10 17:48:18 - [INFO] - HTTP Request: POST http://127.0.0.1:11434/api/chat \"HTTP/1.1 200 OK\"\n"
     ]
    },
    {
     "data": {
      "application/vnd.jupyter.widget-view+json": {
       "model_id": "7a0eac5a9f45441d90b22d6b915ad7da",
       "version_major": 2,
       "version_minor": 0
      },
      "text/plain": [
       "Batches:   0%|          | 0/1 [00:00<?, ?it/s]"
      ]
     },
     "metadata": {},
     "output_type": "display_data"
    },
    {
     "name": "stderr",
     "output_type": "stream",
     "text": [
      "2025-09-10 17:48:20 - [INFO] - HTTP Request: POST http://127.0.0.1:11434/api/chat \"HTTP/1.1 200 OK\"\n",
      "2025-09-10 17:48:24 - [INFO] - Processed question 25/110 in 6.52 seconds\n",
      "2025-09-10 17:48:25 - [INFO] - HTTP Request: POST http://127.0.0.1:11434/api/chat \"HTTP/1.1 200 OK\"\n"
     ]
    },
    {
     "data": {
      "application/vnd.jupyter.widget-view+json": {
       "model_id": "45d1e7a7b3b040719f98d57f204471a9",
       "version_major": 2,
       "version_minor": 0
      },
      "text/plain": [
       "Batches:   0%|          | 0/1 [00:00<?, ?it/s]"
      ]
     },
     "metadata": {},
     "output_type": "display_data"
    },
    {
     "name": "stderr",
     "output_type": "stream",
     "text": [
      "2025-09-10 17:48:29 - [INFO] - HTTP Request: POST http://127.0.0.1:11434/api/chat \"HTTP/1.1 200 OK\"\n",
      "2025-09-10 17:48:33 - [INFO] - Processed question 26/110 in 9.21 seconds\n",
      "2025-09-10 17:48:34 - [INFO] - HTTP Request: POST http://127.0.0.1:11434/api/chat \"HTTP/1.1 200 OK\"\n"
     ]
    },
    {
     "data": {
      "application/vnd.jupyter.widget-view+json": {
       "model_id": "a6cd5572f14b48da8522cc357a585e07",
       "version_major": 2,
       "version_minor": 0
      },
      "text/plain": [
       "Batches:   0%|          | 0/1 [00:00<?, ?it/s]"
      ]
     },
     "metadata": {},
     "output_type": "display_data"
    },
    {
     "name": "stderr",
     "output_type": "stream",
     "text": [
      "2025-09-10 17:48:39 - [INFO] - HTTP Request: POST http://127.0.0.1:11434/api/chat \"HTTP/1.1 200 OK\"\n",
      "2025-09-10 17:48:42 - [INFO] - Processed question 27/110 in 9.18 seconds\n",
      "2025-09-10 17:48:43 - [INFO] - HTTP Request: POST http://127.0.0.1:11434/api/chat \"HTTP/1.1 200 OK\"\n"
     ]
    },
    {
     "data": {
      "application/vnd.jupyter.widget-view+json": {
       "model_id": "16e5586871da4bfeb8417f1686ef8f0d",
       "version_major": 2,
       "version_minor": 0
      },
      "text/plain": [
       "Batches:   0%|          | 0/1 [00:00<?, ?it/s]"
      ]
     },
     "metadata": {},
     "output_type": "display_data"
    },
    {
     "name": "stderr",
     "output_type": "stream",
     "text": [
      "2025-09-10 17:48:45 - [INFO] - HTTP Request: POST http://127.0.0.1:11434/api/chat \"HTTP/1.1 200 OK\"\n",
      "2025-09-10 17:48:48 - [INFO] - Processed question 28/110 in 6.30 seconds\n",
      "2025-09-10 17:48:49 - [INFO] - HTTP Request: POST http://127.0.0.1:11434/api/chat \"HTTP/1.1 200 OK\"\n"
     ]
    },
    {
     "data": {
      "application/vnd.jupyter.widget-view+json": {
       "model_id": "68b20999a3524fd098cbc8f4f6d4b107",
       "version_major": 2,
       "version_minor": 0
      },
      "text/plain": [
       "Batches:   0%|          | 0/1 [00:00<?, ?it/s]"
      ]
     },
     "metadata": {},
     "output_type": "display_data"
    },
    {
     "name": "stderr",
     "output_type": "stream",
     "text": [
      "2025-09-10 17:48:52 - [INFO] - HTTP Request: POST http://127.0.0.1:11434/api/chat \"HTTP/1.1 200 OK\"\n",
      "2025-09-10 17:49:01 - [INFO] - Processed question 29/110 in 12.56 seconds\n",
      "2025-09-10 17:49:02 - [INFO] - HTTP Request: POST http://127.0.0.1:11434/api/chat \"HTTP/1.1 200 OK\"\n"
     ]
    },
    {
     "data": {
      "application/vnd.jupyter.widget-view+json": {
       "model_id": "10cbb43084a14cd4b48cc5efd24441ba",
       "version_major": 2,
       "version_minor": 0
      },
      "text/plain": [
       "Batches:   0%|          | 0/1 [00:00<?, ?it/s]"
      ]
     },
     "metadata": {},
     "output_type": "display_data"
    },
    {
     "name": "stderr",
     "output_type": "stream",
     "text": [
      "2025-09-10 17:49:05 - [INFO] - HTTP Request: POST http://127.0.0.1:11434/api/chat \"HTTP/1.1 200 OK\"\n",
      "2025-09-10 17:49:11 - [INFO] - Processed question 30/110 in 10.12 seconds\n",
      "2025-09-10 17:49:12 - [INFO] - HTTP Request: POST http://127.0.0.1:11434/api/chat \"HTTP/1.1 200 OK\"\n"
     ]
    },
    {
     "data": {
      "application/vnd.jupyter.widget-view+json": {
       "model_id": "c9bb6df59ab544eb8b42f3bdb18ef1f0",
       "version_major": 2,
       "version_minor": 0
      },
      "text/plain": [
       "Batches:   0%|          | 0/1 [00:00<?, ?it/s]"
      ]
     },
     "metadata": {},
     "output_type": "display_data"
    },
    {
     "name": "stderr",
     "output_type": "stream",
     "text": [
      "2025-09-10 17:49:16 - [INFO] - HTTP Request: POST http://127.0.0.1:11434/api/chat \"HTTP/1.1 200 OK\"\n",
      "2025-09-10 17:49:19 - [INFO] - Processed question 31/110 in 8.09 seconds\n",
      "2025-09-10 17:49:20 - [INFO] - HTTP Request: POST http://127.0.0.1:11434/api/chat \"HTTP/1.1 200 OK\"\n"
     ]
    },
    {
     "data": {
      "application/vnd.jupyter.widget-view+json": {
       "model_id": "3d4faa6ee6a3459e9844a9446f0a3c13",
       "version_major": 2,
       "version_minor": 0
      },
      "text/plain": [
       "Batches:   0%|          | 0/1 [00:00<?, ?it/s]"
      ]
     },
     "metadata": {},
     "output_type": "display_data"
    },
    {
     "name": "stderr",
     "output_type": "stream",
     "text": [
      "2025-09-10 17:49:23 - [INFO] - HTTP Request: POST http://127.0.0.1:11434/api/chat \"HTTP/1.1 200 OK\"\n",
      "2025-09-10 17:49:25 - [INFO] - Processed question 32/110 in 5.82 seconds\n",
      "2025-09-10 17:49:26 - [INFO] - HTTP Request: POST http://127.0.0.1:11434/api/chat \"HTTP/1.1 200 OK\"\n"
     ]
    },
    {
     "data": {
      "application/vnd.jupyter.widget-view+json": {
       "model_id": "c37e8fa381be4ba9bf649dcad6520cef",
       "version_major": 2,
       "version_minor": 0
      },
      "text/plain": [
       "Batches:   0%|          | 0/1 [00:00<?, ?it/s]"
      ]
     },
     "metadata": {},
     "output_type": "display_data"
    },
    {
     "name": "stderr",
     "output_type": "stream",
     "text": [
      "2025-09-10 17:49:30 - [INFO] - HTTP Request: POST http://127.0.0.1:11434/api/chat \"HTTP/1.1 200 OK\"\n",
      "2025-09-10 17:49:32 - [INFO] - Processed question 33/110 in 6.77 seconds\n",
      "2025-09-10 17:49:33 - [INFO] - HTTP Request: POST http://127.0.0.1:11434/api/chat \"HTTP/1.1 200 OK\"\n"
     ]
    },
    {
     "data": {
      "application/vnd.jupyter.widget-view+json": {
       "model_id": "251be349c778497396acaf6ca93ea0c1",
       "version_major": 2,
       "version_minor": 0
      },
      "text/plain": [
       "Batches:   0%|          | 0/1 [00:00<?, ?it/s]"
      ]
     },
     "metadata": {},
     "output_type": "display_data"
    },
    {
     "name": "stderr",
     "output_type": "stream",
     "text": [
      "2025-09-10 17:49:35 - [INFO] - HTTP Request: POST http://127.0.0.1:11434/api/chat \"HTTP/1.1 200 OK\"\n",
      "2025-09-10 17:49:39 - [INFO] - Processed question 34/110 in 7.74 seconds\n",
      "2025-09-10 17:49:40 - [INFO] - HTTP Request: POST http://127.0.0.1:11434/api/chat \"HTTP/1.1 200 OK\"\n"
     ]
    },
    {
     "data": {
      "application/vnd.jupyter.widget-view+json": {
       "model_id": "2ee384f061e940be9724f9a04f8ae41d",
       "version_major": 2,
       "version_minor": 0
      },
      "text/plain": [
       "Batches:   0%|          | 0/1 [00:00<?, ?it/s]"
      ]
     },
     "metadata": {},
     "output_type": "display_data"
    },
    {
     "name": "stderr",
     "output_type": "stream",
     "text": [
      "2025-09-10 17:49:44 - [INFO] - HTTP Request: POST http://127.0.0.1:11434/api/chat \"HTTP/1.1 200 OK\"\n",
      "2025-09-10 17:49:46 - [INFO] - Processed question 35/110 in 6.48 seconds\n",
      "2025-09-10 17:49:47 - [INFO] - HTTP Request: POST http://127.0.0.1:11434/api/chat \"HTTP/1.1 200 OK\"\n"
     ]
    },
    {
     "data": {
      "application/vnd.jupyter.widget-view+json": {
       "model_id": "9020fb89233b45939d91867a1f5abd8b",
       "version_major": 2,
       "version_minor": 0
      },
      "text/plain": [
       "Batches:   0%|          | 0/1 [00:00<?, ?it/s]"
      ]
     },
     "metadata": {},
     "output_type": "display_data"
    },
    {
     "name": "stderr",
     "output_type": "stream",
     "text": [
      "2025-09-10 17:49:50 - [INFO] - HTTP Request: POST http://127.0.0.1:11434/api/chat \"HTTP/1.1 200 OK\"\n",
      "2025-09-10 17:49:51 - [INFO] - Processed question 36/110 in 5.53 seconds\n",
      "2025-09-10 17:49:52 - [INFO] - HTTP Request: POST http://127.0.0.1:11434/api/chat \"HTTP/1.1 200 OK\"\n"
     ]
    },
    {
     "data": {
      "application/vnd.jupyter.widget-view+json": {
       "model_id": "fed594a928bb47c6be5aae11f37ac3b7",
       "version_major": 2,
       "version_minor": 0
      },
      "text/plain": [
       "Batches:   0%|          | 0/1 [00:00<?, ?it/s]"
      ]
     },
     "metadata": {},
     "output_type": "display_data"
    },
    {
     "name": "stderr",
     "output_type": "stream",
     "text": [
      "2025-09-10 17:49:56 - [INFO] - HTTP Request: POST http://127.0.0.1:11434/api/chat \"HTTP/1.1 200 OK\"\n",
      "2025-09-10 17:50:01 - [INFO] - Processed question 37/110 in 9.46 seconds\n",
      "2025-09-10 17:50:02 - [INFO] - HTTP Request: POST http://127.0.0.1:11434/api/chat \"HTTP/1.1 200 OK\"\n"
     ]
    },
    {
     "data": {
      "application/vnd.jupyter.widget-view+json": {
       "model_id": "aef5a2a93f104d0aa4e1015fad022d92",
       "version_major": 2,
       "version_minor": 0
      },
      "text/plain": [
       "Batches:   0%|          | 0/1 [00:00<?, ?it/s]"
      ]
     },
     "metadata": {},
     "output_type": "display_data"
    },
    {
     "name": "stderr",
     "output_type": "stream",
     "text": [
      "2025-09-10 17:50:06 - [INFO] - HTTP Request: POST http://127.0.0.1:11434/api/chat \"HTTP/1.1 200 OK\"\n",
      "2025-09-10 17:50:08 - [INFO] - Processed question 38/110 in 6.80 seconds\n",
      "2025-09-10 17:50:09 - [INFO] - HTTP Request: POST http://127.0.0.1:11434/api/chat \"HTTP/1.1 200 OK\"\n"
     ]
    },
    {
     "data": {
      "application/vnd.jupyter.widget-view+json": {
       "model_id": "cb61acee512d4827aece23d8ae3d3905",
       "version_major": 2,
       "version_minor": 0
      },
      "text/plain": [
       "Batches:   0%|          | 0/1 [00:00<?, ?it/s]"
      ]
     },
     "metadata": {},
     "output_type": "display_data"
    },
    {
     "name": "stderr",
     "output_type": "stream",
     "text": [
      "2025-09-10 17:50:10 - [INFO] - HTTP Request: POST http://127.0.0.1:11434/api/chat \"HTTP/1.1 200 OK\"\n",
      "2025-09-10 17:50:11 - [INFO] - Processed question 39/110 in 3.35 seconds\n",
      "2025-09-10 17:50:12 - [INFO] - HTTP Request: POST http://127.0.0.1:11434/api/chat \"HTTP/1.1 200 OK\"\n"
     ]
    },
    {
     "data": {
      "application/vnd.jupyter.widget-view+json": {
       "model_id": "15ca827b10a946c0b7d6f662b10c8113",
       "version_major": 2,
       "version_minor": 0
      },
      "text/plain": [
       "Batches:   0%|          | 0/1 [00:00<?, ?it/s]"
      ]
     },
     "metadata": {},
     "output_type": "display_data"
    },
    {
     "name": "stderr",
     "output_type": "stream",
     "text": [
      "2025-09-10 17:50:14 - [INFO] - HTTP Request: POST http://127.0.0.1:11434/api/chat \"HTTP/1.1 200 OK\"\n",
      "2025-09-10 17:50:14 - [INFO] - Processed question 40/110 in 3.33 seconds\n",
      "2025-09-10 17:50:15 - [INFO] - HTTP Request: POST http://127.0.0.1:11434/api/chat \"HTTP/1.1 200 OK\"\n"
     ]
    },
    {
     "data": {
      "application/vnd.jupyter.widget-view+json": {
       "model_id": "a909e2d0a328460bbe851542530889b4",
       "version_major": 2,
       "version_minor": 0
      },
      "text/plain": [
       "Batches:   0%|          | 0/1 [00:00<?, ?it/s]"
      ]
     },
     "metadata": {},
     "output_type": "display_data"
    },
    {
     "name": "stderr",
     "output_type": "stream",
     "text": [
      "2025-09-10 17:50:18 - [INFO] - HTTP Request: POST http://127.0.0.1:11434/api/chat \"HTTP/1.1 200 OK\"\n",
      "2025-09-10 17:50:23 - [INFO] - Processed question 41/110 in 9.21 seconds\n",
      "2025-09-10 17:50:25 - [INFO] - HTTP Request: POST http://127.0.0.1:11434/api/chat \"HTTP/1.1 200 OK\"\n"
     ]
    },
    {
     "data": {
      "application/vnd.jupyter.widget-view+json": {
       "model_id": "569cd722198941f4a0bf1c74cb063fee",
       "version_major": 2,
       "version_minor": 0
      },
      "text/plain": [
       "Batches:   0%|          | 0/1 [00:00<?, ?it/s]"
      ]
     },
     "metadata": {},
     "output_type": "display_data"
    },
    {
     "name": "stderr",
     "output_type": "stream",
     "text": [
      "2025-09-10 17:50:27 - [INFO] - HTTP Request: POST http://127.0.0.1:11434/api/chat \"HTTP/1.1 200 OK\"\n",
      "2025-09-10 17:50:29 - [INFO] - Processed question 42/110 in 5.33 seconds\n",
      "2025-09-10 17:50:30 - [INFO] - HTTP Request: POST http://127.0.0.1:11434/api/chat \"HTTP/1.1 200 OK\"\n"
     ]
    },
    {
     "data": {
      "application/vnd.jupyter.widget-view+json": {
       "model_id": "7502f25c8ff94509a898244ed9828f95",
       "version_major": 2,
       "version_minor": 0
      },
      "text/plain": [
       "Batches:   0%|          | 0/1 [00:00<?, ?it/s]"
      ]
     },
     "metadata": {},
     "output_type": "display_data"
    },
    {
     "name": "stderr",
     "output_type": "stream",
     "text": [
      "2025-09-10 17:50:32 - [INFO] - HTTP Request: POST http://127.0.0.1:11434/api/chat \"HTTP/1.1 200 OK\"\n",
      "2025-09-10 17:50:34 - [INFO] - Processed question 43/110 in 4.84 seconds\n",
      "2025-09-10 17:50:35 - [INFO] - HTTP Request: POST http://127.0.0.1:11434/api/chat \"HTTP/1.1 200 OK\"\n"
     ]
    },
    {
     "data": {
      "application/vnd.jupyter.widget-view+json": {
       "model_id": "5b3cf32702ec4a1eb64aac231a50b85d",
       "version_major": 2,
       "version_minor": 0
      },
      "text/plain": [
       "Batches:   0%|          | 0/1 [00:00<?, ?it/s]"
      ]
     },
     "metadata": {},
     "output_type": "display_data"
    },
    {
     "name": "stderr",
     "output_type": "stream",
     "text": [
      "2025-09-10 17:50:37 - [INFO] - HTTP Request: POST http://127.0.0.1:11434/api/chat \"HTTP/1.1 200 OK\"\n",
      "2025-09-10 17:50:38 - [INFO] - Processed question 44/110 in 4.58 seconds\n",
      "2025-09-10 17:50:39 - [INFO] - HTTP Request: POST http://127.0.0.1:11434/api/chat \"HTTP/1.1 200 OK\"\n"
     ]
    },
    {
     "data": {
      "application/vnd.jupyter.widget-view+json": {
       "model_id": "dcc4a14dbf2740809ace4cb957492060",
       "version_major": 2,
       "version_minor": 0
      },
      "text/plain": [
       "Batches:   0%|          | 0/1 [00:00<?, ?it/s]"
      ]
     },
     "metadata": {},
     "output_type": "display_data"
    },
    {
     "name": "stderr",
     "output_type": "stream",
     "text": [
      "2025-09-10 17:50:42 - [INFO] - HTTP Request: POST http://127.0.0.1:11434/api/chat \"HTTP/1.1 200 OK\"\n",
      "2025-09-10 17:51:21 - [INFO] - Processed question 45/110 in 43.19 seconds\n",
      "2025-09-10 17:51:23 - [INFO] - HTTP Request: POST http://127.0.0.1:11434/api/chat \"HTTP/1.1 200 OK\"\n"
     ]
    },
    {
     "data": {
      "application/vnd.jupyter.widget-view+json": {
       "model_id": "91a9725573e543109c4160e61bb22b87",
       "version_major": 2,
       "version_minor": 0
      },
      "text/plain": [
       "Batches:   0%|          | 0/1 [00:00<?, ?it/s]"
      ]
     },
     "metadata": {},
     "output_type": "display_data"
    },
    {
     "name": "stderr",
     "output_type": "stream",
     "text": [
      "2025-09-10 17:51:25 - [INFO] - HTTP Request: POST http://127.0.0.1:11434/api/chat \"HTTP/1.1 200 OK\"\n",
      "2025-09-10 17:51:35 - [INFO] - Processed question 46/110 in 13.52 seconds\n",
      "2025-09-10 17:51:37 - [INFO] - HTTP Request: POST http://127.0.0.1:11434/api/chat \"HTTP/1.1 200 OK\"\n"
     ]
    },
    {
     "data": {
      "application/vnd.jupyter.widget-view+json": {
       "model_id": "512ba0f980694aa9bc19573bb69bf46c",
       "version_major": 2,
       "version_minor": 0
      },
      "text/plain": [
       "Batches:   0%|          | 0/1 [00:00<?, ?it/s]"
      ]
     },
     "metadata": {},
     "output_type": "display_data"
    },
    {
     "name": "stderr",
     "output_type": "stream",
     "text": [
      "2025-09-10 17:51:39 - [INFO] - HTTP Request: POST http://127.0.0.1:11434/api/chat \"HTTP/1.1 200 OK\"\n",
      "2025-09-10 17:51:39 - [INFO] - Processed question 47/110 in 4.44 seconds\n",
      "2025-09-10 17:51:41 - [INFO] - HTTP Request: POST http://127.0.0.1:11434/api/chat \"HTTP/1.1 200 OK\"\n"
     ]
    },
    {
     "data": {
      "application/vnd.jupyter.widget-view+json": {
       "model_id": "1559e7e512e14d6e837e019f8aa5d4b8",
       "version_major": 2,
       "version_minor": 0
      },
      "text/plain": [
       "Batches:   0%|          | 0/1 [00:00<?, ?it/s]"
      ]
     },
     "metadata": {},
     "output_type": "display_data"
    },
    {
     "name": "stderr",
     "output_type": "stream",
     "text": [
      "2025-09-10 17:51:44 - [INFO] - HTTP Request: POST http://127.0.0.1:11434/api/chat \"HTTP/1.1 200 OK\"\n",
      "2025-09-10 17:51:48 - [INFO] - Processed question 48/110 in 8.71 seconds\n",
      "2025-09-10 17:51:50 - [INFO] - HTTP Request: POST http://127.0.0.1:11434/api/chat \"HTTP/1.1 200 OK\"\n"
     ]
    },
    {
     "data": {
      "application/vnd.jupyter.widget-view+json": {
       "model_id": "03e19913a62c43668f9b52168b98ad29",
       "version_major": 2,
       "version_minor": 0
      },
      "text/plain": [
       "Batches:   0%|          | 0/1 [00:00<?, ?it/s]"
      ]
     },
     "metadata": {},
     "output_type": "display_data"
    },
    {
     "name": "stderr",
     "output_type": "stream",
     "text": [
      "2025-09-10 17:51:53 - [INFO] - HTTP Request: POST http://127.0.0.1:11434/api/chat \"HTTP/1.1 200 OK\"\n",
      "2025-09-10 17:51:58 - [INFO] - Processed question 49/110 in 9.61 seconds\n",
      "2025-09-10 17:52:00 - [INFO] - HTTP Request: POST http://127.0.0.1:11434/api/chat \"HTTP/1.1 200 OK\"\n"
     ]
    },
    {
     "data": {
      "application/vnd.jupyter.widget-view+json": {
       "model_id": "a9e30b8956b0485cb5e84334a2573737",
       "version_major": 2,
       "version_minor": 0
      },
      "text/plain": [
       "Batches:   0%|          | 0/1 [00:00<?, ?it/s]"
      ]
     },
     "metadata": {},
     "output_type": "display_data"
    },
    {
     "name": "stderr",
     "output_type": "stream",
     "text": [
      "2025-09-10 17:52:02 - [INFO] - HTTP Request: POST http://127.0.0.1:11434/api/chat \"HTTP/1.1 200 OK\"\n",
      "2025-09-10 17:52:08 - [INFO] - Processed question 50/110 in 9.94 seconds\n",
      "2025-09-10 17:52:09 - [INFO] - HTTP Request: POST http://127.0.0.1:11434/api/chat \"HTTP/1.1 200 OK\"\n"
     ]
    },
    {
     "data": {
      "application/vnd.jupyter.widget-view+json": {
       "model_id": "9b4d6382e3394de9be97350eebc19e5c",
       "version_major": 2,
       "version_minor": 0
      },
      "text/plain": [
       "Batches:   0%|          | 0/1 [00:00<?, ?it/s]"
      ]
     },
     "metadata": {},
     "output_type": "display_data"
    },
    {
     "name": "stderr",
     "output_type": "stream",
     "text": [
      "2025-09-10 17:52:11 - [INFO] - HTTP Request: POST http://127.0.0.1:11434/api/chat \"HTTP/1.1 200 OK\"\n",
      "2025-09-10 17:52:17 - [INFO] - Processed question 51/110 in 8.98 seconds\n",
      "2025-09-10 17:52:18 - [INFO] - HTTP Request: POST http://127.0.0.1:11434/api/chat \"HTTP/1.1 200 OK\"\n"
     ]
    },
    {
     "data": {
      "application/vnd.jupyter.widget-view+json": {
       "model_id": "4cb50a65c1104eae80133f8a0f44dabd",
       "version_major": 2,
       "version_minor": 0
      },
      "text/plain": [
       "Batches:   0%|          | 0/1 [00:00<?, ?it/s]"
      ]
     },
     "metadata": {},
     "output_type": "display_data"
    },
    {
     "name": "stderr",
     "output_type": "stream",
     "text": [
      "2025-09-10 17:52:21 - [INFO] - HTTP Request: POST http://127.0.0.1:11434/api/chat \"HTTP/1.1 200 OK\"\n",
      "2025-09-10 17:52:24 - [INFO] - Processed question 52/110 in 7.36 seconds\n",
      "2025-09-10 17:52:25 - [INFO] - HTTP Request: POST http://127.0.0.1:11434/api/chat \"HTTP/1.1 200 OK\"\n"
     ]
    },
    {
     "data": {
      "application/vnd.jupyter.widget-view+json": {
       "model_id": "e1f0848c3e2946c69661da979dcf8031",
       "version_major": 2,
       "version_minor": 0
      },
      "text/plain": [
       "Batches:   0%|          | 0/1 [00:00<?, ?it/s]"
      ]
     },
     "metadata": {},
     "output_type": "display_data"
    },
    {
     "name": "stderr",
     "output_type": "stream",
     "text": [
      "2025-09-10 17:52:28 - [INFO] - HTTP Request: POST http://127.0.0.1:11434/api/chat \"HTTP/1.1 200 OK\"\n",
      "2025-09-10 17:52:33 - [INFO] - Processed question 53/110 in 8.53 seconds\n",
      "2025-09-10 17:52:34 - [INFO] - HTTP Request: POST http://127.0.0.1:11434/api/chat \"HTTP/1.1 200 OK\"\n"
     ]
    },
    {
     "data": {
      "application/vnd.jupyter.widget-view+json": {
       "model_id": "580da5d64e324d0fbb90057b299526b6",
       "version_major": 2,
       "version_minor": 0
      },
      "text/plain": [
       "Batches:   0%|          | 0/1 [00:00<?, ?it/s]"
      ]
     },
     "metadata": {},
     "output_type": "display_data"
    },
    {
     "name": "stderr",
     "output_type": "stream",
     "text": [
      "2025-09-10 17:52:36 - [INFO] - HTTP Request: POST http://127.0.0.1:11434/api/chat \"HTTP/1.1 200 OK\"\n",
      "2025-09-10 17:52:39 - [INFO] - Processed question 54/110 in 6.11 seconds\n",
      "2025-09-10 17:52:40 - [INFO] - HTTP Request: POST http://127.0.0.1:11434/api/chat \"HTTP/1.1 200 OK\"\n"
     ]
    },
    {
     "data": {
      "application/vnd.jupyter.widget-view+json": {
       "model_id": "97bfdcd9a6b54ea49a5f30efcf3022a7",
       "version_major": 2,
       "version_minor": 0
      },
      "text/plain": [
       "Batches:   0%|          | 0/1 [00:00<?, ?it/s]"
      ]
     },
     "metadata": {},
     "output_type": "display_data"
    },
    {
     "name": "stderr",
     "output_type": "stream",
     "text": [
      "2025-09-10 17:52:42 - [INFO] - HTTP Request: POST http://127.0.0.1:11434/api/chat \"HTTP/1.1 200 OK\"\n",
      "2025-09-10 17:52:44 - [INFO] - Processed question 55/110 in 5.43 seconds\n",
      "2025-09-10 17:52:45 - [INFO] - HTTP Request: POST http://127.0.0.1:11434/api/chat \"HTTP/1.1 200 OK\"\n"
     ]
    },
    {
     "data": {
      "application/vnd.jupyter.widget-view+json": {
       "model_id": "99e448b4ba84475a973f60757730a4dd",
       "version_major": 2,
       "version_minor": 0
      },
      "text/plain": [
       "Batches:   0%|          | 0/1 [00:00<?, ?it/s]"
      ]
     },
     "metadata": {},
     "output_type": "display_data"
    },
    {
     "name": "stderr",
     "output_type": "stream",
     "text": [
      "2025-09-10 17:52:49 - [INFO] - HTTP Request: POST http://127.0.0.1:11434/api/chat \"HTTP/1.1 200 OK\"\n",
      "2025-09-10 17:52:53 - [INFO] - Processed question 56/110 in 8.65 seconds\n",
      "2025-09-10 17:52:54 - [INFO] - HTTP Request: POST http://127.0.0.1:11434/api/chat \"HTTP/1.1 200 OK\"\n"
     ]
    },
    {
     "data": {
      "application/vnd.jupyter.widget-view+json": {
       "model_id": "aef704f919e74f6ebd0fe467515e0664",
       "version_major": 2,
       "version_minor": 0
      },
      "text/plain": [
       "Batches:   0%|          | 0/1 [00:00<?, ?it/s]"
      ]
     },
     "metadata": {},
     "output_type": "display_data"
    },
    {
     "name": "stderr",
     "output_type": "stream",
     "text": [
      "2025-09-10 17:52:57 - [INFO] - HTTP Request: POST http://127.0.0.1:11434/api/chat \"HTTP/1.1 200 OK\"\n",
      "2025-09-10 17:53:13 - [INFO] - Processed question 57/110 in 19.96 seconds\n",
      "2025-09-10 17:53:14 - [INFO] - HTTP Request: POST http://127.0.0.1:11434/api/chat \"HTTP/1.1 200 OK\"\n"
     ]
    },
    {
     "data": {
      "application/vnd.jupyter.widget-view+json": {
       "model_id": "48e573054943472e9811be3c31305401",
       "version_major": 2,
       "version_minor": 0
      },
      "text/plain": [
       "Batches:   0%|          | 0/1 [00:00<?, ?it/s]"
      ]
     },
     "metadata": {},
     "output_type": "display_data"
    },
    {
     "name": "stderr",
     "output_type": "stream",
     "text": [
      "2025-09-10 17:53:17 - [INFO] - HTTP Request: POST http://127.0.0.1:11434/api/chat \"HTTP/1.1 200 OK\"\n",
      "2025-09-10 17:53:23 - [INFO] - Processed question 58/110 in 10.44 seconds\n",
      "2025-09-10 17:53:25 - [INFO] - HTTP Request: POST http://127.0.0.1:11434/api/chat \"HTTP/1.1 200 OK\"\n"
     ]
    },
    {
     "data": {
      "application/vnd.jupyter.widget-view+json": {
       "model_id": "462d52ba650e4330a68d3d648abcd206",
       "version_major": 2,
       "version_minor": 0
      },
      "text/plain": [
       "Batches:   0%|          | 0/1 [00:00<?, ?it/s]"
      ]
     },
     "metadata": {},
     "output_type": "display_data"
    },
    {
     "name": "stderr",
     "output_type": "stream",
     "text": [
      "2025-09-10 17:53:27 - [INFO] - HTTP Request: POST http://127.0.0.1:11434/api/chat \"HTTP/1.1 200 OK\"\n",
      "2025-09-10 17:53:29 - [INFO] - Processed question 59/110 in 5.61 seconds\n",
      "2025-09-10 17:53:30 - [INFO] - HTTP Request: POST http://127.0.0.1:11434/api/chat \"HTTP/1.1 200 OK\"\n"
     ]
    },
    {
     "data": {
      "application/vnd.jupyter.widget-view+json": {
       "model_id": "806da48fdd704a83b2bc5ae36b46d54c",
       "version_major": 2,
       "version_minor": 0
      },
      "text/plain": [
       "Batches:   0%|          | 0/1 [00:00<?, ?it/s]"
      ]
     },
     "metadata": {},
     "output_type": "display_data"
    },
    {
     "name": "stderr",
     "output_type": "stream",
     "text": [
      "2025-09-10 17:53:33 - [INFO] - HTTP Request: POST http://127.0.0.1:11434/api/chat \"HTTP/1.1 200 OK\"\n",
      "2025-09-10 17:53:36 - [INFO] - Processed question 60/110 in 7.33 seconds\n",
      "2025-09-10 17:53:37 - [INFO] - HTTP Request: POST http://127.0.0.1:11434/api/chat \"HTTP/1.1 200 OK\"\n"
     ]
    },
    {
     "data": {
      "application/vnd.jupyter.widget-view+json": {
       "model_id": "1a7e94de3cd044ed83196a552602fa5c",
       "version_major": 2,
       "version_minor": 0
      },
      "text/plain": [
       "Batches:   0%|          | 0/1 [00:00<?, ?it/s]"
      ]
     },
     "metadata": {},
     "output_type": "display_data"
    },
    {
     "name": "stderr",
     "output_type": "stream",
     "text": [
      "2025-09-10 17:53:40 - [INFO] - HTTP Request: POST http://127.0.0.1:11434/api/chat \"HTTP/1.1 200 OK\"\n",
      "2025-09-10 17:53:44 - [INFO] - Processed question 61/110 in 7.92 seconds\n",
      "2025-09-10 17:53:45 - [INFO] - HTTP Request: POST http://127.0.0.1:11434/api/chat \"HTTP/1.1 200 OK\"\n"
     ]
    },
    {
     "data": {
      "application/vnd.jupyter.widget-view+json": {
       "model_id": "a1111852b2724ddcb08c6ba551032af5",
       "version_major": 2,
       "version_minor": 0
      },
      "text/plain": [
       "Batches:   0%|          | 0/1 [00:00<?, ?it/s]"
      ]
     },
     "metadata": {},
     "output_type": "display_data"
    },
    {
     "name": "stderr",
     "output_type": "stream",
     "text": [
      "2025-09-10 17:53:49 - [INFO] - HTTP Request: POST http://127.0.0.1:11434/api/chat \"HTTP/1.1 200 OK\"\n",
      "2025-09-10 17:53:50 - [INFO] - Processed question 62/110 in 5.81 seconds\n",
      "2025-09-10 17:53:51 - [INFO] - HTTP Request: POST http://127.0.0.1:11434/api/chat \"HTTP/1.1 200 OK\"\n"
     ]
    },
    {
     "data": {
      "application/vnd.jupyter.widget-view+json": {
       "model_id": "9db2673ecddb46559518c26913ad4e74",
       "version_major": 2,
       "version_minor": 0
      },
      "text/plain": [
       "Batches:   0%|          | 0/1 [00:00<?, ?it/s]"
      ]
     },
     "metadata": {},
     "output_type": "display_data"
    },
    {
     "name": "stderr",
     "output_type": "stream",
     "text": [
      "2025-09-10 17:53:54 - [INFO] - HTTP Request: POST http://127.0.0.1:11434/api/chat \"HTTP/1.1 200 OK\"\n",
      "2025-09-10 17:53:56 - [INFO] - Processed question 63/110 in 6.62 seconds\n",
      "2025-09-10 17:53:57 - [INFO] - HTTP Request: POST http://127.0.0.1:11434/api/chat \"HTTP/1.1 200 OK\"\n"
     ]
    },
    {
     "data": {
      "application/vnd.jupyter.widget-view+json": {
       "model_id": "c0c913d2b5314af3b5f4962829f46fa7",
       "version_major": 2,
       "version_minor": 0
      },
      "text/plain": [
       "Batches:   0%|          | 0/1 [00:00<?, ?it/s]"
      ]
     },
     "metadata": {},
     "output_type": "display_data"
    },
    {
     "name": "stderr",
     "output_type": "stream",
     "text": [
      "2025-09-10 17:53:59 - [INFO] - HTTP Request: POST http://127.0.0.1:11434/api/chat \"HTTP/1.1 200 OK\"\n",
      "2025-09-10 17:54:02 - [INFO] - Processed question 64/110 in 5.88 seconds\n",
      "2025-09-10 17:54:03 - [INFO] - HTTP Request: POST http://127.0.0.1:11434/api/chat \"HTTP/1.1 200 OK\"\n"
     ]
    },
    {
     "data": {
      "application/vnd.jupyter.widget-view+json": {
       "model_id": "5afba11220d442908276e1817c1cab53",
       "version_major": 2,
       "version_minor": 0
      },
      "text/plain": [
       "Batches:   0%|          | 0/1 [00:00<?, ?it/s]"
      ]
     },
     "metadata": {},
     "output_type": "display_data"
    },
    {
     "name": "stderr",
     "output_type": "stream",
     "text": [
      "2025-09-10 17:54:06 - [INFO] - HTTP Request: POST http://127.0.0.1:11434/api/chat \"HTTP/1.1 200 OK\"\n",
      "2025-09-10 17:54:07 - [INFO] - Processed question 65/110 in 4.41 seconds\n",
      "2025-09-10 17:54:08 - [INFO] - HTTP Request: POST http://127.0.0.1:11434/api/chat \"HTTP/1.1 200 OK\"\n"
     ]
    },
    {
     "data": {
      "application/vnd.jupyter.widget-view+json": {
       "model_id": "c2ddce12f6c146709c758410d340fdf7",
       "version_major": 2,
       "version_minor": 0
      },
      "text/plain": [
       "Batches:   0%|          | 0/1 [00:00<?, ?it/s]"
      ]
     },
     "metadata": {},
     "output_type": "display_data"
    },
    {
     "name": "stderr",
     "output_type": "stream",
     "text": [
      "2025-09-10 17:54:10 - [INFO] - HTTP Request: POST http://127.0.0.1:11434/api/chat \"HTTP/1.1 200 OK\"\n",
      "2025-09-10 17:54:12 - [INFO] - Processed question 66/110 in 4.85 seconds\n",
      "2025-09-10 17:54:12 - [INFO] - HTTP Request: POST http://127.0.0.1:11434/api/chat \"HTTP/1.1 200 OK\"\n"
     ]
    },
    {
     "data": {
      "application/vnd.jupyter.widget-view+json": {
       "model_id": "49e0b954da134a19b13e715ef5697522",
       "version_major": 2,
       "version_minor": 0
      },
      "text/plain": [
       "Batches:   0%|          | 0/1 [00:00<?, ?it/s]"
      ]
     },
     "metadata": {},
     "output_type": "display_data"
    },
    {
     "name": "stderr",
     "output_type": "stream",
     "text": [
      "2025-09-10 17:54:15 - [INFO] - HTTP Request: POST http://127.0.0.1:11434/api/chat \"HTTP/1.1 200 OK\"\n",
      "2025-09-10 17:54:21 - [INFO] - Processed question 67/110 in 9.21 seconds\n",
      "2025-09-10 17:54:22 - [INFO] - HTTP Request: POST http://127.0.0.1:11434/api/chat \"HTTP/1.1 200 OK\"\n"
     ]
    },
    {
     "data": {
      "application/vnd.jupyter.widget-view+json": {
       "model_id": "713edd1f3e28478aa1ae142e604a129c",
       "version_major": 2,
       "version_minor": 0
      },
      "text/plain": [
       "Batches:   0%|          | 0/1 [00:00<?, ?it/s]"
      ]
     },
     "metadata": {},
     "output_type": "display_data"
    },
    {
     "name": "stderr",
     "output_type": "stream",
     "text": [
      "2025-09-10 17:54:24 - [INFO] - HTTP Request: POST http://127.0.0.1:11434/api/chat \"HTTP/1.1 200 OK\"\n",
      "2025-09-10 17:54:30 - [INFO] - Processed question 68/110 in 9.72 seconds\n",
      "2025-09-10 17:54:32 - [INFO] - HTTP Request: POST http://127.0.0.1:11434/api/chat \"HTTP/1.1 200 OK\"\n"
     ]
    },
    {
     "data": {
      "application/vnd.jupyter.widget-view+json": {
       "model_id": "3ead80615e7f4f71b888f23a3bb3d132",
       "version_major": 2,
       "version_minor": 0
      },
      "text/plain": [
       "Batches:   0%|          | 0/1 [00:00<?, ?it/s]"
      ]
     },
     "metadata": {},
     "output_type": "display_data"
    },
    {
     "name": "stderr",
     "output_type": "stream",
     "text": [
      "2025-09-10 17:54:35 - [INFO] - HTTP Request: POST http://127.0.0.1:11434/api/chat \"HTTP/1.1 200 OK\"\n",
      "2025-09-10 17:54:38 - [INFO] - Processed question 69/110 in 7.41 seconds\n",
      "2025-09-10 17:54:39 - [INFO] - HTTP Request: POST http://127.0.0.1:11434/api/chat \"HTTP/1.1 200 OK\"\n"
     ]
    },
    {
     "data": {
      "application/vnd.jupyter.widget-view+json": {
       "model_id": "e68d61a7d1be4476af9dadf588ba9ee9",
       "version_major": 2,
       "version_minor": 0
      },
      "text/plain": [
       "Batches:   0%|          | 0/1 [00:00<?, ?it/s]"
      ]
     },
     "metadata": {},
     "output_type": "display_data"
    },
    {
     "name": "stderr",
     "output_type": "stream",
     "text": [
      "2025-09-10 17:54:42 - [INFO] - HTTP Request: POST http://127.0.0.1:11434/api/chat \"HTTP/1.1 200 OK\"\n",
      "2025-09-10 17:54:47 - [INFO] - Processed question 70/110 in 9.03 seconds\n",
      "2025-09-10 17:54:48 - [INFO] - HTTP Request: POST http://127.0.0.1:11434/api/chat \"HTTP/1.1 200 OK\"\n"
     ]
    },
    {
     "data": {
      "application/vnd.jupyter.widget-view+json": {
       "model_id": "4132cff941564678b1c368aee7788f5c",
       "version_major": 2,
       "version_minor": 0
      },
      "text/plain": [
       "Batches:   0%|          | 0/1 [00:00<?, ?it/s]"
      ]
     },
     "metadata": {},
     "output_type": "display_data"
    },
    {
     "name": "stderr",
     "output_type": "stream",
     "text": [
      "2025-09-10 17:54:51 - [INFO] - HTTP Request: POST http://127.0.0.1:11434/api/chat \"HTTP/1.1 200 OK\"\n",
      "2025-09-10 17:54:56 - [INFO] - Processed question 71/110 in 8.83 seconds\n",
      "2025-09-10 17:54:57 - [INFO] - HTTP Request: POST http://127.0.0.1:11434/api/chat \"HTTP/1.1 200 OK\"\n"
     ]
    },
    {
     "data": {
      "application/vnd.jupyter.widget-view+json": {
       "model_id": "715709b6b31b430d932c57e389aee528",
       "version_major": 2,
       "version_minor": 0
      },
      "text/plain": [
       "Batches:   0%|          | 0/1 [00:00<?, ?it/s]"
      ]
     },
     "metadata": {},
     "output_type": "display_data"
    },
    {
     "name": "stderr",
     "output_type": "stream",
     "text": [
      "2025-09-10 17:55:00 - [INFO] - HTTP Request: POST http://127.0.0.1:11434/api/chat \"HTTP/1.1 200 OK\"\n",
      "2025-09-10 17:55:03 - [INFO] - Processed question 72/110 in 7.11 seconds\n",
      "2025-09-10 17:55:04 - [INFO] - HTTP Request: POST http://127.0.0.1:11434/api/chat \"HTTP/1.1 200 OK\"\n"
     ]
    },
    {
     "data": {
      "application/vnd.jupyter.widget-view+json": {
       "model_id": "46d5ab593672425fb19994b67a68f408",
       "version_major": 2,
       "version_minor": 0
      },
      "text/plain": [
       "Batches:   0%|          | 0/1 [00:00<?, ?it/s]"
      ]
     },
     "metadata": {},
     "output_type": "display_data"
    },
    {
     "name": "stderr",
     "output_type": "stream",
     "text": [
      "2025-09-10 17:55:07 - [INFO] - HTTP Request: POST http://127.0.0.1:11434/api/chat \"HTTP/1.1 200 OK\"\n",
      "2025-09-10 17:55:09 - [INFO] - Processed question 73/110 in 6.42 seconds\n",
      "2025-09-10 17:55:10 - [INFO] - HTTP Request: POST http://127.0.0.1:11434/api/chat \"HTTP/1.1 200 OK\"\n"
     ]
    },
    {
     "data": {
      "application/vnd.jupyter.widget-view+json": {
       "model_id": "a2c62b74bb3b4ccdbb3c467824115562",
       "version_major": 2,
       "version_minor": 0
      },
      "text/plain": [
       "Batches:   0%|          | 0/1 [00:00<?, ?it/s]"
      ]
     },
     "metadata": {},
     "output_type": "display_data"
    },
    {
     "name": "stderr",
     "output_type": "stream",
     "text": [
      "2025-09-10 17:55:13 - [INFO] - HTTP Request: POST http://127.0.0.1:11434/api/chat \"HTTP/1.1 200 OK\"\n",
      "2025-09-10 17:55:18 - [INFO] - Processed question 74/110 in 8.63 seconds\n",
      "2025-09-10 17:55:19 - [INFO] - HTTP Request: POST http://127.0.0.1:11434/api/chat \"HTTP/1.1 200 OK\"\n"
     ]
    },
    {
     "data": {
      "application/vnd.jupyter.widget-view+json": {
       "model_id": "c8a71f527e2d480faf903b69eec102bc",
       "version_major": 2,
       "version_minor": 0
      },
      "text/plain": [
       "Batches:   0%|          | 0/1 [00:00<?, ?it/s]"
      ]
     },
     "metadata": {},
     "output_type": "display_data"
    },
    {
     "name": "stderr",
     "output_type": "stream",
     "text": [
      "2025-09-10 17:55:22 - [INFO] - HTTP Request: POST http://127.0.0.1:11434/api/chat \"HTTP/1.1 200 OK\"\n",
      "2025-09-10 17:55:26 - [INFO] - Processed question 75/110 in 7.62 seconds\n",
      "2025-09-10 17:55:27 - [INFO] - HTTP Request: POST http://127.0.0.1:11434/api/chat \"HTTP/1.1 200 OK\"\n"
     ]
    },
    {
     "data": {
      "application/vnd.jupyter.widget-view+json": {
       "model_id": "3e4ac9ff518f4675be4f6c7f6e64fdee",
       "version_major": 2,
       "version_minor": 0
      },
      "text/plain": [
       "Batches:   0%|          | 0/1 [00:00<?, ?it/s]"
      ]
     },
     "metadata": {},
     "output_type": "display_data"
    },
    {
     "name": "stderr",
     "output_type": "stream",
     "text": [
      "2025-09-10 17:55:29 - [INFO] - HTTP Request: POST http://127.0.0.1:11434/api/chat \"HTTP/1.1 200 OK\"\n",
      "2025-09-10 17:55:33 - [INFO] - Processed question 76/110 in 7.09 seconds\n",
      "2025-09-10 17:55:34 - [INFO] - HTTP Request: POST http://127.0.0.1:11434/api/chat \"HTTP/1.1 200 OK\"\n"
     ]
    },
    {
     "data": {
      "application/vnd.jupyter.widget-view+json": {
       "model_id": "e120545bb7c5441cadfb8ab5794b6c7b",
       "version_major": 2,
       "version_minor": 0
      },
      "text/plain": [
       "Batches:   0%|          | 0/1 [00:00<?, ?it/s]"
      ]
     },
     "metadata": {},
     "output_type": "display_data"
    },
    {
     "name": "stderr",
     "output_type": "stream",
     "text": [
      "2025-09-10 17:55:37 - [INFO] - HTTP Request: POST http://127.0.0.1:11434/api/chat \"HTTP/1.1 200 OK\"\n",
      "2025-09-10 17:55:39 - [INFO] - Processed question 77/110 in 6.26 seconds\n",
      "2025-09-10 17:55:40 - [INFO] - HTTP Request: POST http://127.0.0.1:11434/api/chat \"HTTP/1.1 200 OK\"\n"
     ]
    },
    {
     "data": {
      "application/vnd.jupyter.widget-view+json": {
       "model_id": "2c74d4fc3a00468e928447a9cea190ab",
       "version_major": 2,
       "version_minor": 0
      },
      "text/plain": [
       "Batches:   0%|          | 0/1 [00:00<?, ?it/s]"
      ]
     },
     "metadata": {},
     "output_type": "display_data"
    },
    {
     "name": "stderr",
     "output_type": "stream",
     "text": [
      "2025-09-10 17:55:43 - [INFO] - HTTP Request: POST http://127.0.0.1:11434/api/chat \"HTTP/1.1 200 OK\"\n",
      "2025-09-10 17:55:45 - [INFO] - Processed question 78/110 in 6.30 seconds\n",
      "2025-09-10 17:55:46 - [INFO] - HTTP Request: POST http://127.0.0.1:11434/api/chat \"HTTP/1.1 200 OK\"\n"
     ]
    },
    {
     "data": {
      "application/vnd.jupyter.widget-view+json": {
       "model_id": "880be6ca79bd4780b5558f4a91b866ff",
       "version_major": 2,
       "version_minor": 0
      },
      "text/plain": [
       "Batches:   0%|          | 0/1 [00:00<?, ?it/s]"
      ]
     },
     "metadata": {},
     "output_type": "display_data"
    },
    {
     "name": "stderr",
     "output_type": "stream",
     "text": [
      "2025-09-10 17:55:49 - [INFO] - HTTP Request: POST http://127.0.0.1:11434/api/chat \"HTTP/1.1 200 OK\"\n",
      "2025-09-10 17:55:54 - [INFO] - Processed question 79/110 in 8.45 seconds\n",
      "2025-09-10 17:55:55 - [INFO] - HTTP Request: POST http://127.0.0.1:11434/api/chat \"HTTP/1.1 200 OK\"\n"
     ]
    },
    {
     "data": {
      "application/vnd.jupyter.widget-view+json": {
       "model_id": "fecad82b3c79458d9a5b083adeaa4278",
       "version_major": 2,
       "version_minor": 0
      },
      "text/plain": [
       "Batches:   0%|          | 0/1 [00:00<?, ?it/s]"
      ]
     },
     "metadata": {},
     "output_type": "display_data"
    },
    {
     "name": "stderr",
     "output_type": "stream",
     "text": [
      "2025-09-10 17:55:58 - [INFO] - HTTP Request: POST http://127.0.0.1:11434/api/chat \"HTTP/1.1 200 OK\"\n",
      "2025-09-10 17:56:02 - [INFO] - Processed question 80/110 in 8.09 seconds\n",
      "2025-09-10 17:56:03 - [INFO] - HTTP Request: POST http://127.0.0.1:11434/api/chat \"HTTP/1.1 200 OK\"\n"
     ]
    },
    {
     "data": {
      "application/vnd.jupyter.widget-view+json": {
       "model_id": "fad81f2bee694af9bbc21c2a778e6878",
       "version_major": 2,
       "version_minor": 0
      },
      "text/plain": [
       "Batches:   0%|          | 0/1 [00:00<?, ?it/s]"
      ]
     },
     "metadata": {},
     "output_type": "display_data"
    },
    {
     "name": "stderr",
     "output_type": "stream",
     "text": [
      "2025-09-10 17:56:06 - [INFO] - HTTP Request: POST http://127.0.0.1:11434/api/chat \"HTTP/1.1 200 OK\"\n",
      "2025-09-10 17:56:12 - [INFO] - Processed question 81/110 in 10.45 seconds\n",
      "2025-09-10 17:56:13 - [INFO] - HTTP Request: POST http://127.0.0.1:11434/api/chat \"HTTP/1.1 200 OK\"\n"
     ]
    },
    {
     "data": {
      "application/vnd.jupyter.widget-view+json": {
       "model_id": "2089cb1b8298455e84579b613b7da56c",
       "version_major": 2,
       "version_minor": 0
      },
      "text/plain": [
       "Batches:   0%|          | 0/1 [00:00<?, ?it/s]"
      ]
     },
     "metadata": {},
     "output_type": "display_data"
    },
    {
     "name": "stderr",
     "output_type": "stream",
     "text": [
      "2025-09-10 17:56:16 - [INFO] - HTTP Request: POST http://127.0.0.1:11434/api/chat \"HTTP/1.1 200 OK\"\n",
      "2025-09-10 17:56:18 - [INFO] - Processed question 82/110 in 6.19 seconds\n",
      "2025-09-10 17:56:20 - [INFO] - HTTP Request: POST http://127.0.0.1:11434/api/chat \"HTTP/1.1 200 OK\"\n"
     ]
    },
    {
     "data": {
      "application/vnd.jupyter.widget-view+json": {
       "model_id": "33f21af350dd4ace93fdf4dd917b6bd8",
       "version_major": 2,
       "version_minor": 0
      },
      "text/plain": [
       "Batches:   0%|          | 0/1 [00:00<?, ?it/s]"
      ]
     },
     "metadata": {},
     "output_type": "display_data"
    },
    {
     "name": "stderr",
     "output_type": "stream",
     "text": [
      "2025-09-10 17:56:22 - [INFO] - HTTP Request: POST http://127.0.0.1:11434/api/chat \"HTTP/1.1 200 OK\"\n",
      "2025-09-10 17:56:26 - [INFO] - Processed question 83/110 in 7.41 seconds\n",
      "2025-09-10 17:56:27 - [INFO] - HTTP Request: POST http://127.0.0.1:11434/api/chat \"HTTP/1.1 200 OK\"\n"
     ]
    },
    {
     "data": {
      "application/vnd.jupyter.widget-view+json": {
       "model_id": "0dc1714b1d7644029260fe825aa120b1",
       "version_major": 2,
       "version_minor": 0
      },
      "text/plain": [
       "Batches:   0%|          | 0/1 [00:00<?, ?it/s]"
      ]
     },
     "metadata": {},
     "output_type": "display_data"
    },
    {
     "name": "stderr",
     "output_type": "stream",
     "text": [
      "2025-09-10 17:56:30 - [INFO] - HTTP Request: POST http://127.0.0.1:11434/api/chat \"HTTP/1.1 200 OK\"\n",
      "2025-09-10 17:56:34 - [INFO] - Processed question 84/110 in 7.92 seconds\n",
      "2025-09-10 17:56:35 - [INFO] - HTTP Request: POST http://127.0.0.1:11434/api/chat \"HTTP/1.1 200 OK\"\n"
     ]
    },
    {
     "data": {
      "application/vnd.jupyter.widget-view+json": {
       "model_id": "47b4fe4108ac46d495fa6e87fea1b945",
       "version_major": 2,
       "version_minor": 0
      },
      "text/plain": [
       "Batches:   0%|          | 0/1 [00:00<?, ?it/s]"
      ]
     },
     "metadata": {},
     "output_type": "display_data"
    },
    {
     "name": "stderr",
     "output_type": "stream",
     "text": [
      "2025-09-10 17:56:38 - [INFO] - HTTP Request: POST http://127.0.0.1:11434/api/chat \"HTTP/1.1 200 OK\"\n",
      "2025-09-10 17:56:41 - [INFO] - Processed question 85/110 in 7.33 seconds\n",
      "2025-09-10 17:56:42 - [INFO] - HTTP Request: POST http://127.0.0.1:11434/api/chat \"HTTP/1.1 200 OK\"\n"
     ]
    },
    {
     "data": {
      "application/vnd.jupyter.widget-view+json": {
       "model_id": "c743170baef34e129f1ae8d778c76541",
       "version_major": 2,
       "version_minor": 0
      },
      "text/plain": [
       "Batches:   0%|          | 0/1 [00:00<?, ?it/s]"
      ]
     },
     "metadata": {},
     "output_type": "display_data"
    },
    {
     "name": "stderr",
     "output_type": "stream",
     "text": [
      "2025-09-10 17:56:45 - [INFO] - HTTP Request: POST http://127.0.0.1:11434/api/chat \"HTTP/1.1 200 OK\"\n",
      "2025-09-10 17:56:49 - [INFO] - Processed question 86/110 in 8.28 seconds\n",
      "2025-09-10 17:56:50 - [INFO] - HTTP Request: POST http://127.0.0.1:11434/api/chat \"HTTP/1.1 200 OK\"\n"
     ]
    },
    {
     "data": {
      "application/vnd.jupyter.widget-view+json": {
       "model_id": "1a54fe42f7514dc2b7859b66d5bcb26c",
       "version_major": 2,
       "version_minor": 0
      },
      "text/plain": [
       "Batches:   0%|          | 0/1 [00:00<?, ?it/s]"
      ]
     },
     "metadata": {},
     "output_type": "display_data"
    },
    {
     "name": "stderr",
     "output_type": "stream",
     "text": [
      "2025-09-10 17:56:53 - [INFO] - HTTP Request: POST http://127.0.0.1:11434/api/chat \"HTTP/1.1 200 OK\"\n",
      "2025-09-10 17:56:56 - [INFO] - Processed question 87/110 in 6.58 seconds\n",
      "2025-09-10 17:56:57 - [INFO] - HTTP Request: POST http://127.0.0.1:11434/api/chat \"HTTP/1.1 200 OK\"\n"
     ]
    },
    {
     "data": {
      "application/vnd.jupyter.widget-view+json": {
       "model_id": "5c30a8b4d45c4994a971d7fe803f2594",
       "version_major": 2,
       "version_minor": 0
      },
      "text/plain": [
       "Batches:   0%|          | 0/1 [00:00<?, ?it/s]"
      ]
     },
     "metadata": {},
     "output_type": "display_data"
    },
    {
     "name": "stderr",
     "output_type": "stream",
     "text": [
      "2025-09-10 17:57:00 - [INFO] - HTTP Request: POST http://127.0.0.1:11434/api/chat \"HTTP/1.1 200 OK\"\n",
      "2025-09-10 17:57:07 - [INFO] - Processed question 88/110 in 11.36 seconds\n",
      "2025-09-10 17:57:09 - [INFO] - HTTP Request: POST http://127.0.0.1:11434/api/chat \"HTTP/1.1 200 OK\"\n"
     ]
    },
    {
     "data": {
      "application/vnd.jupyter.widget-view+json": {
       "model_id": "bba9f9d82ccb4068826c427ad4f17774",
       "version_major": 2,
       "version_minor": 0
      },
      "text/plain": [
       "Batches:   0%|          | 0/1 [00:00<?, ?it/s]"
      ]
     },
     "metadata": {},
     "output_type": "display_data"
    },
    {
     "name": "stderr",
     "output_type": "stream",
     "text": [
      "2025-09-10 17:57:12 - [INFO] - HTTP Request: POST http://127.0.0.1:11434/api/chat \"HTTP/1.1 200 OK\"\n",
      "2025-09-10 17:57:16 - [INFO] - Processed question 89/110 in 8.90 seconds\n",
      "2025-09-10 17:57:17 - [INFO] - HTTP Request: POST http://127.0.0.1:11434/api/chat \"HTTP/1.1 200 OK\"\n"
     ]
    },
    {
     "data": {
      "application/vnd.jupyter.widget-view+json": {
       "model_id": "84d903e90f6945cf88892b5fbc0c5f6c",
       "version_major": 2,
       "version_minor": 0
      },
      "text/plain": [
       "Batches:   0%|          | 0/1 [00:00<?, ?it/s]"
      ]
     },
     "metadata": {},
     "output_type": "display_data"
    },
    {
     "name": "stderr",
     "output_type": "stream",
     "text": [
      "2025-09-10 17:57:19 - [INFO] - HTTP Request: POST http://127.0.0.1:11434/api/chat \"HTTP/1.1 200 OK\"\n",
      "2025-09-10 17:57:20 - [INFO] - Processed question 90/110 in 3.85 seconds\n",
      "2025-09-10 17:57:21 - [INFO] - HTTP Request: POST http://127.0.0.1:11434/api/chat \"HTTP/1.1 200 OK\"\n"
     ]
    },
    {
     "data": {
      "application/vnd.jupyter.widget-view+json": {
       "model_id": "c37ba9ce0e964a4dae5cbcf0a92a8f8d",
       "version_major": 2,
       "version_minor": 0
      },
      "text/plain": [
       "Batches:   0%|          | 0/1 [00:00<?, ?it/s]"
      ]
     },
     "metadata": {},
     "output_type": "display_data"
    },
    {
     "name": "stderr",
     "output_type": "stream",
     "text": [
      "2025-09-10 17:57:23 - [INFO] - HTTP Request: POST http://127.0.0.1:11434/api/chat \"HTTP/1.1 200 OK\"\n",
      "2025-09-10 17:57:25 - [INFO] - Processed question 91/110 in 5.43 seconds\n",
      "2025-09-10 17:57:27 - [INFO] - HTTP Request: POST http://127.0.0.1:11434/api/chat \"HTTP/1.1 200 OK\"\n"
     ]
    },
    {
     "data": {
      "application/vnd.jupyter.widget-view+json": {
       "model_id": "dd88d1727972458c923128cfc88f8448",
       "version_major": 2,
       "version_minor": 0
      },
      "text/plain": [
       "Batches:   0%|          | 0/1 [00:00<?, ?it/s]"
      ]
     },
     "metadata": {},
     "output_type": "display_data"
    },
    {
     "name": "stderr",
     "output_type": "stream",
     "text": [
      "2025-09-10 17:57:29 - [INFO] - HTTP Request: POST http://127.0.0.1:11434/api/chat \"HTTP/1.1 200 OK\"\n",
      "2025-09-10 17:57:30 - [INFO] - Processed question 92/110 in 4.32 seconds\n",
      "2025-09-10 17:57:31 - [INFO] - HTTP Request: POST http://127.0.0.1:11434/api/chat \"HTTP/1.1 200 OK\"\n"
     ]
    },
    {
     "data": {
      "application/vnd.jupyter.widget-view+json": {
       "model_id": "b8ce1a5ed1ce4ecb851d1b7d94eaf0ae",
       "version_major": 2,
       "version_minor": 0
      },
      "text/plain": [
       "Batches:   0%|          | 0/1 [00:00<?, ?it/s]"
      ]
     },
     "metadata": {},
     "output_type": "display_data"
    },
    {
     "name": "stderr",
     "output_type": "stream",
     "text": [
      "2025-09-10 17:57:34 - [INFO] - HTTP Request: POST http://127.0.0.1:11434/api/chat \"HTTP/1.1 200 OK\"\n",
      "2025-09-10 17:57:35 - [INFO] - Processed question 93/110 in 5.24 seconds\n",
      "2025-09-10 17:57:36 - [INFO] - HTTP Request: POST http://127.0.0.1:11434/api/chat \"HTTP/1.1 200 OK\"\n"
     ]
    },
    {
     "data": {
      "application/vnd.jupyter.widget-view+json": {
       "model_id": "48b2a2bacc0b46839baa2b64a29ac43a",
       "version_major": 2,
       "version_minor": 0
      },
      "text/plain": [
       "Batches:   0%|          | 0/1 [00:00<?, ?it/s]"
      ]
     },
     "metadata": {},
     "output_type": "display_data"
    },
    {
     "name": "stderr",
     "output_type": "stream",
     "text": [
      "2025-09-10 17:57:39 - [INFO] - HTTP Request: POST http://127.0.0.1:11434/api/chat \"HTTP/1.1 200 OK\"\n",
      "2025-09-10 17:57:41 - [INFO] - Processed question 94/110 in 6.11 seconds\n",
      "2025-09-10 17:57:42 - [INFO] - HTTP Request: POST http://127.0.0.1:11434/api/chat \"HTTP/1.1 200 OK\"\n"
     ]
    },
    {
     "data": {
      "application/vnd.jupyter.widget-view+json": {
       "model_id": "e6ce65a659a8439788c80e4ea08b5c3c",
       "version_major": 2,
       "version_minor": 0
      },
      "text/plain": [
       "Batches:   0%|          | 0/1 [00:00<?, ?it/s]"
      ]
     },
     "metadata": {},
     "output_type": "display_data"
    },
    {
     "name": "stderr",
     "output_type": "stream",
     "text": [
      "2025-09-10 17:57:45 - [INFO] - HTTP Request: POST http://127.0.0.1:11434/api/chat \"HTTP/1.1 200 OK\"\n",
      "2025-09-10 17:57:48 - [INFO] - Processed question 95/110 in 7.00 seconds\n",
      "2025-09-10 17:57:49 - [INFO] - HTTP Request: POST http://127.0.0.1:11434/api/chat \"HTTP/1.1 200 OK\"\n"
     ]
    },
    {
     "data": {
      "application/vnd.jupyter.widget-view+json": {
       "model_id": "cf21827d6cf04f9a89a2b05a20fff7e5",
       "version_major": 2,
       "version_minor": 0
      },
      "text/plain": [
       "Batches:   0%|          | 0/1 [00:00<?, ?it/s]"
      ]
     },
     "metadata": {},
     "output_type": "display_data"
    },
    {
     "name": "stderr",
     "output_type": "stream",
     "text": [
      "2025-09-10 17:57:52 - [INFO] - HTTP Request: POST http://127.0.0.1:11434/api/chat \"HTTP/1.1 200 OK\"\n",
      "2025-09-10 17:57:54 - [INFO] - Processed question 96/110 in 5.75 seconds\n",
      "2025-09-10 17:57:55 - [INFO] - HTTP Request: POST http://127.0.0.1:11434/api/chat \"HTTP/1.1 200 OK\"\n"
     ]
    },
    {
     "data": {
      "application/vnd.jupyter.widget-view+json": {
       "model_id": "121d13d1d6ec43a9b6df3debc9be9a04",
       "version_major": 2,
       "version_minor": 0
      },
      "text/plain": [
       "Batches:   0%|          | 0/1 [00:00<?, ?it/s]"
      ]
     },
     "metadata": {},
     "output_type": "display_data"
    },
    {
     "name": "stderr",
     "output_type": "stream",
     "text": [
      "2025-09-10 17:57:58 - [INFO] - HTTP Request: POST http://127.0.0.1:11434/api/chat \"HTTP/1.1 200 OK\"\n",
      "2025-09-10 17:58:02 - [INFO] - Processed question 97/110 in 7.66 seconds\n",
      "2025-09-10 17:58:03 - [INFO] - HTTP Request: POST http://127.0.0.1:11434/api/chat \"HTTP/1.1 200 OK\"\n"
     ]
    },
    {
     "data": {
      "application/vnd.jupyter.widget-view+json": {
       "model_id": "3bff13011a524419b8eda04bfac14a3d",
       "version_major": 2,
       "version_minor": 0
      },
      "text/plain": [
       "Batches:   0%|          | 0/1 [00:00<?, ?it/s]"
      ]
     },
     "metadata": {},
     "output_type": "display_data"
    },
    {
     "name": "stderr",
     "output_type": "stream",
     "text": [
      "2025-09-10 17:58:07 - [INFO] - HTTP Request: POST http://127.0.0.1:11434/api/chat \"HTTP/1.1 200 OK\"\n",
      "2025-09-10 17:58:09 - [INFO] - Processed question 98/110 in 7.40 seconds\n",
      "2025-09-10 17:58:10 - [INFO] - HTTP Request: POST http://127.0.0.1:11434/api/chat \"HTTP/1.1 200 OK\"\n"
     ]
    },
    {
     "data": {
      "application/vnd.jupyter.widget-view+json": {
       "model_id": "75fb78e25d794c6e92d0ceb007078e19",
       "version_major": 2,
       "version_minor": 0
      },
      "text/plain": [
       "Batches:   0%|          | 0/1 [00:00<?, ?it/s]"
      ]
     },
     "metadata": {},
     "output_type": "display_data"
    },
    {
     "name": "stderr",
     "output_type": "stream",
     "text": [
      "2025-09-10 17:58:13 - [INFO] - HTTP Request: POST http://127.0.0.1:11434/api/chat \"HTTP/1.1 200 OK\"\n",
      "2025-09-10 17:58:15 - [INFO] - Processed question 99/110 in 6.20 seconds\n",
      "2025-09-10 17:58:16 - [INFO] - HTTP Request: POST http://127.0.0.1:11434/api/chat \"HTTP/1.1 200 OK\"\n"
     ]
    },
    {
     "data": {
      "application/vnd.jupyter.widget-view+json": {
       "model_id": "258f70d3d56e4896a048be09f7b196c4",
       "version_major": 2,
       "version_minor": 0
      },
      "text/plain": [
       "Batches:   0%|          | 0/1 [00:00<?, ?it/s]"
      ]
     },
     "metadata": {},
     "output_type": "display_data"
    },
    {
     "name": "stderr",
     "output_type": "stream",
     "text": [
      "2025-09-10 17:58:20 - [INFO] - HTTP Request: POST http://127.0.0.1:11434/api/chat \"HTTP/1.1 200 OK\"\n",
      "2025-09-10 17:58:23 - [INFO] - Processed question 100/110 in 7.74 seconds\n",
      "2025-09-10 17:58:24 - [INFO] - HTTP Request: POST http://127.0.0.1:11434/api/chat \"HTTP/1.1 200 OK\"\n"
     ]
    },
    {
     "data": {
      "application/vnd.jupyter.widget-view+json": {
       "model_id": "abd9a2a9ed004a14a326171ca36d8e75",
       "version_major": 2,
       "version_minor": 0
      },
      "text/plain": [
       "Batches:   0%|          | 0/1 [00:00<?, ?it/s]"
      ]
     },
     "metadata": {},
     "output_type": "display_data"
    },
    {
     "name": "stderr",
     "output_type": "stream",
     "text": [
      "2025-09-10 17:58:26 - [INFO] - HTTP Request: POST http://127.0.0.1:11434/api/chat \"HTTP/1.1 200 OK\"\n",
      "2025-09-10 17:58:31 - [INFO] - Processed question 101/110 in 7.89 seconds\n",
      "2025-09-10 17:58:32 - [INFO] - HTTP Request: POST http://127.0.0.1:11434/api/chat \"HTTP/1.1 200 OK\"\n"
     ]
    },
    {
     "data": {
      "application/vnd.jupyter.widget-view+json": {
       "model_id": "7f8ae4d1483b45e3a29e4515e447c98b",
       "version_major": 2,
       "version_minor": 0
      },
      "text/plain": [
       "Batches:   0%|          | 0/1 [00:00<?, ?it/s]"
      ]
     },
     "metadata": {},
     "output_type": "display_data"
    },
    {
     "name": "stderr",
     "output_type": "stream",
     "text": [
      "2025-09-10 17:58:34 - [INFO] - HTTP Request: POST http://127.0.0.1:11434/api/chat \"HTTP/1.1 200 OK\"\n",
      "2025-09-10 17:58:41 - [INFO] - Processed question 102/110 in 10.41 seconds\n",
      "2025-09-10 17:58:42 - [INFO] - HTTP Request: POST http://127.0.0.1:11434/api/chat \"HTTP/1.1 200 OK\"\n"
     ]
    },
    {
     "data": {
      "application/vnd.jupyter.widget-view+json": {
       "model_id": "369e31b4efa54ef0a280d0c81308a2f7",
       "version_major": 2,
       "version_minor": 0
      },
      "text/plain": [
       "Batches:   0%|          | 0/1 [00:00<?, ?it/s]"
      ]
     },
     "metadata": {},
     "output_type": "display_data"
    },
    {
     "name": "stderr",
     "output_type": "stream",
     "text": [
      "2025-09-10 17:58:46 - [INFO] - HTTP Request: POST http://127.0.0.1:11434/api/chat \"HTTP/1.1 200 OK\"\n",
      "2025-09-10 17:58:50 - [INFO] - Processed question 103/110 in 8.85 seconds\n",
      "2025-09-10 17:58:51 - [INFO] - HTTP Request: POST http://127.0.0.1:11434/api/chat \"HTTP/1.1 200 OK\"\n"
     ]
    },
    {
     "data": {
      "application/vnd.jupyter.widget-view+json": {
       "model_id": "86f88795e5f8481ebdea1dad876f4743",
       "version_major": 2,
       "version_minor": 0
      },
      "text/plain": [
       "Batches:   0%|          | 0/1 [00:00<?, ?it/s]"
      ]
     },
     "metadata": {},
     "output_type": "display_data"
    },
    {
     "name": "stderr",
     "output_type": "stream",
     "text": [
      "2025-09-10 17:58:54 - [INFO] - HTTP Request: POST http://127.0.0.1:11434/api/chat \"HTTP/1.1 200 OK\"\n",
      "2025-09-10 17:58:56 - [INFO] - Processed question 104/110 in 5.71 seconds\n",
      "2025-09-10 17:58:57 - [INFO] - HTTP Request: POST http://127.0.0.1:11434/api/chat \"HTTP/1.1 200 OK\"\n"
     ]
    },
    {
     "data": {
      "application/vnd.jupyter.widget-view+json": {
       "model_id": "7c759b4834ba4b89b7d25a6f65b2c9cb",
       "version_major": 2,
       "version_minor": 0
      },
      "text/plain": [
       "Batches:   0%|          | 0/1 [00:00<?, ?it/s]"
      ]
     },
     "metadata": {},
     "output_type": "display_data"
    },
    {
     "name": "stderr",
     "output_type": "stream",
     "text": [
      "2025-09-10 17:58:59 - [INFO] - HTTP Request: POST http://127.0.0.1:11434/api/chat \"HTTP/1.1 200 OK\"\n",
      "2025-09-10 17:59:01 - [INFO] - Processed question 105/110 in 5.27 seconds\n",
      "2025-09-10 17:59:02 - [INFO] - HTTP Request: POST http://127.0.0.1:11434/api/chat \"HTTP/1.1 200 OK\"\n"
     ]
    },
    {
     "data": {
      "application/vnd.jupyter.widget-view+json": {
       "model_id": "f96a45b8d45e4c1888e5b9e5fd0e6349",
       "version_major": 2,
       "version_minor": 0
      },
      "text/plain": [
       "Batches:   0%|          | 0/1 [00:00<?, ?it/s]"
      ]
     },
     "metadata": {},
     "output_type": "display_data"
    },
    {
     "name": "stderr",
     "output_type": "stream",
     "text": [
      "2025-09-10 17:59:04 - [INFO] - HTTP Request: POST http://127.0.0.1:11434/api/chat \"HTTP/1.1 200 OK\"\n",
      "2025-09-10 17:59:06 - [INFO] - Processed question 106/110 in 4.91 seconds\n",
      "2025-09-10 17:59:07 - [INFO] - HTTP Request: POST http://127.0.0.1:11434/api/chat \"HTTP/1.1 200 OK\"\n"
     ]
    },
    {
     "data": {
      "application/vnd.jupyter.widget-view+json": {
       "model_id": "53685d1517964cc5b8a5b7cdf2c5967f",
       "version_major": 2,
       "version_minor": 0
      },
      "text/plain": [
       "Batches:   0%|          | 0/1 [00:00<?, ?it/s]"
      ]
     },
     "metadata": {},
     "output_type": "display_data"
    },
    {
     "name": "stderr",
     "output_type": "stream",
     "text": [
      "2025-09-10 17:59:09 - [INFO] - HTTP Request: POST http://127.0.0.1:11434/api/chat \"HTTP/1.1 200 OK\"\n",
      "2025-09-10 17:59:17 - [INFO] - Processed question 107/110 in 11.22 seconds\n",
      "2025-09-10 17:59:18 - [INFO] - HTTP Request: POST http://127.0.0.1:11434/api/chat \"HTTP/1.1 200 OK\"\n"
     ]
    },
    {
     "data": {
      "application/vnd.jupyter.widget-view+json": {
       "model_id": "688e0b133d64432ca86895b370558610",
       "version_major": 2,
       "version_minor": 0
      },
      "text/plain": [
       "Batches:   0%|          | 0/1 [00:00<?, ?it/s]"
      ]
     },
     "metadata": {},
     "output_type": "display_data"
    },
    {
     "name": "stderr",
     "output_type": "stream",
     "text": [
      "2025-09-10 17:59:21 - [INFO] - HTTP Request: POST http://127.0.0.1:11434/api/chat \"HTTP/1.1 200 OK\"\n",
      "2025-09-10 17:59:26 - [INFO] - Processed question 108/110 in 8.73 seconds\n",
      "2025-09-10 17:59:27 - [INFO] - HTTP Request: POST http://127.0.0.1:11434/api/chat \"HTTP/1.1 200 OK\"\n"
     ]
    },
    {
     "data": {
      "application/vnd.jupyter.widget-view+json": {
       "model_id": "d0df25ee836548078d52427419aa7523",
       "version_major": 2,
       "version_minor": 0
      },
      "text/plain": [
       "Batches:   0%|          | 0/1 [00:00<?, ?it/s]"
      ]
     },
     "metadata": {},
     "output_type": "display_data"
    },
    {
     "name": "stderr",
     "output_type": "stream",
     "text": [
      "2025-09-10 17:59:30 - [INFO] - HTTP Request: POST http://127.0.0.1:11434/api/chat \"HTTP/1.1 200 OK\"\n",
      "2025-09-10 17:59:36 - [INFO] - Processed question 109/110 in 9.92 seconds\n",
      "2025-09-10 17:59:37 - [INFO] - HTTP Request: POST http://127.0.0.1:11434/api/chat \"HTTP/1.1 200 OK\"\n"
     ]
    },
    {
     "data": {
      "application/vnd.jupyter.widget-view+json": {
       "model_id": "0903f5070ba24ea4b93300016cbc0515",
       "version_major": 2,
       "version_minor": 0
      },
      "text/plain": [
       "Batches:   0%|          | 0/1 [00:00<?, ?it/s]"
      ]
     },
     "metadata": {},
     "output_type": "display_data"
    },
    {
     "name": "stderr",
     "output_type": "stream",
     "text": [
      "2025-09-10 17:59:39 - [INFO] - HTTP Request: POST http://127.0.0.1:11434/api/chat \"HTTP/1.1 200 OK\"\n",
      "2025-09-10 17:59:44 - [INFO] - Processed question 110/110 in 7.89 seconds\n",
      "2025-09-10 17:59:44 - [INFO] - Saving evaluation results to: C:\\Master's_Thesis\\evaluation_data\\rag_eval_generated_answers.csv\n",
      "2025-09-10 17:59:44 - [INFO] - Evaluation script finished successfully in 888.81 seconds.\n"
     ]
    }
   ],
   "source": [
    "if __name__ == \"__main__\":\n",
    "    main()"
   ]
  },
  {
   "cell_type": "code",
   "execution_count": null,
   "id": "7a8b31a6-09da-48ec-993e-857c84bb4c2b",
   "metadata": {},
   "outputs": [],
   "source": []
  }
 ],
 "metadata": {
  "kernelspec": {
   "display_name": "Python 3 (ipykernel)",
   "language": "python",
   "name": "python3"
  },
  "language_info": {
   "codemirror_mode": {
    "name": "ipython",
    "version": 3
   },
   "file_extension": ".py",
   "mimetype": "text/x-python",
   "name": "python",
   "nbconvert_exporter": "python",
   "pygments_lexer": "ipython3",
   "version": "3.13.3"
  }
 },
 "nbformat": 4,
 "nbformat_minor": 5
}
