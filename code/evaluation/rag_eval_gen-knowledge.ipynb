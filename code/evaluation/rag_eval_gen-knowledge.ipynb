{
 "cells": [
  {
   "cell_type": "code",
   "execution_count": null,
   "id": "538637fa-db5f-448a-ae94-bf74270d8e67",
   "metadata": {},
   "outputs": [],
   "source": [
    "\"\"\"\n",
    "This script conducts a comparative evaluation of a Retrieval-Augmented Generation \n",
    "(RAG) system against a baseline Large Language Model (LLM). It assesses their \n",
    "performance on two distinct general knowledge question-answering datasets: \n",
    "TriviaQA and TruthfulQA.\n",
    "\n",
    "The script queries both the RAG system and the base LLM with a subset of \n",
    "questions from each dataset, records their answers and response times, and saves\n",
    "the comprehensive results into two separate CSV files for subsequent analysis.\n",
    "\"\"\""
   ]
  },
  {
   "cell_type": "code",
   "execution_count": 10,
   "id": "daab744a-c371-4e8a-9747-48b3a791d32b",
   "metadata": {},
   "outputs": [],
   "source": [
    "# ==================================================================================================\n",
    "# --- 1. Import Dependencies ---\n",
    "# ==================================================================================================\n",
    "import pandas as pd\n",
    "import time\n",
    "import ollama\n",
    "import logging\n",
    "import sys\n",
    "from pathlib import Path\n",
    "from types import SimpleNamespace\n",
    "from datasets import load_dataset\n",
    "\n",
    "# --- Define Project Root and Add to Python Path ---\n",
    "# This allows the script to find and import the 'core' package.\n",
    "# --- Define Project Root and Add to Python Path ---\n",
    "project_code_root = Path.cwd().parent.resolve()\n",
    "project_root = Path.cwd().parent.parent.resolve()\n",
    "\n",
    "if str(project_code_root) not in sys.path:\n",
    "        sys.path.append(str(project_code_root))\n",
    "    \n",
    "from core.rag_setup import setup_chatbot"
   ]
  },
  {
   "cell_type": "code",
   "execution_count": 11,
   "id": "48bb13d1-a941-4213-947b-ef2ec5fbd772",
   "metadata": {},
   "outputs": [
    {
     "name": "stdout",
     "output_type": "stream",
     "text": [
      "C:\\Master's_Thesis\\code\n",
      "C:\\Master's_Thesis\n"
     ]
    }
   ],
   "source": [
    "print(project_code_root)\n",
    "print(project_root)"
   ]
  },
  {
   "cell_type": "code",
   "execution_count": 12,
   "id": "80b15f54-aaca-433d-baf5-4a7edd89ac8e",
   "metadata": {},
   "outputs": [],
   "source": [
    "# ==================================================================================================\n",
    "# --- 2. Logging Configuration ---\n",
    "# ==================================================================================================\n",
    "logging.basicConfig(\n",
    "    level=logging.INFO,\n",
    "    format='%(asctime)s - [%(levelname)s] - %(message)s',\n",
    "    datefmt='%Y-%m-%d %H:%M:%S'\n",
    ")\n"
   ]
  },
  {
   "cell_type": "code",
   "execution_count": 13,
   "id": "f9db45a3-2460-4c00-8a67-d1dbe90d9bd2",
   "metadata": {},
   "outputs": [],
   "source": [
    "# ==================================================================================================\n",
    "# --- 3. Core Evaluation Functions ---\n",
    "# ==================================================================================================\n",
    "\n",
    "def query_base_llm(question: str, model_name: str) -> str:\n",
    "    \"\"\"Sends a question directly to a specified baseline LLM via Ollama.\"\"\"\n",
    "    try:\n",
    "        response = ollama.chat(\n",
    "            model=model_name,\n",
    "            messages=[{'role': 'user', 'content': question}]\n",
    "        )\n",
    "        return response['message']['content']\n",
    "    except Exception as e:\n",
    "        logging.error(f\"Error querying base LLM '{model_name}': {e}\")\n",
    "        return f\"Error: {e}\"\n",
    "\n",
    "def evaluate_on_triviaqa(rag_chain, base_llm_name: str, dataset, output_path: Path):\n",
    "    \"\"\"Runs the evaluation loop specifically for the TriviaQA dataset.\"\"\"\n",
    "    results = []\n",
    "    total_questions = len(dataset)\n",
    "    logging.info(f\"--- Starting Evaluation on TriviaQA ({total_questions} questions) ---\")\n",
    "\n",
    "    for i, item in enumerate(dataset):\n",
    "        question = item['question']\n",
    "        ground_truth_answers = item['answer']['aliases']\n",
    "\n",
    "        # --- Query RAG System ---\n",
    "        start_time = time.time()\n",
    "        rag_response = rag_chain.invoke(question)\n",
    "        rag_time = time.time() - start_time\n",
    "        rag_answer = rag_response.get('answer', 'No answer found.')\n",
    "\n",
    "        # --- Query Base LLM ---\n",
    "        start_time = time.time()\n",
    "        base_llm_answer = query_base_llm(question, base_llm_name)\n",
    "        base_llm_time = time.time() - start_time\n",
    "        \n",
    "        results.append({\n",
    "            \"question\": question,\n",
    "            \"ground_truth_answers\": \", \".join(ground_truth_answers),\n",
    "            \"rag_answer\": rag_answer,\n",
    "            \"base_llm_answer\": base_llm_answer,\n",
    "            \"rag_response_time_seconds\": rag_time,\n",
    "            \"base_llm_response_time_seconds\": base_llm_time\n",
    "        })\n",
    "        logging.info(f\"Processed TriviaQA question {i + 1}/{total_questions}\")\n",
    "\n",
    "    df = pd.DataFrame(results)\n",
    "    df.to_csv(output_path, index=False, encoding=\"utf-8-sig\")\n",
    "    logging.info(f\"TriviaQA evaluation complete. Results saved to '{output_path}'\")\n",
    "\n",
    "def evaluate_on_truthfulqa(rag_chain, base_llm_name: str, dataset, output_path: Path):\n",
    "    \"\"\"Runs the evaluation loop specifically for the TruthfulQA dataset.\"\"\"\n",
    "    results = []\n",
    "    total_questions = len(dataset)\n",
    "    logging.info(f\"--- Starting Evaluation on TruthfulQA ({total_questions} questions) ---\")\n",
    "\n",
    "    for i, item in enumerate(dataset):\n",
    "        question = item['question']\n",
    "        correct_answers = item['correct_answers']\n",
    "        incorrect_answers = item['incorrect_answers']\n",
    "\n",
    "        # --- Query RAG System ---\n",
    "        start_time = time.time()\n",
    "        rag_response = rag_chain.invoke(question)\n",
    "        rag_time = time.time() - start_time\n",
    "        rag_answer = rag_response.get('answer', 'No answer found.')\n",
    "\n",
    "        # --- Query Base LLM ---\n",
    "        start_time = time.time()\n",
    "        base_llm_answer = query_base_llm(question, base_llm_name)\n",
    "        base_llm_time = time.time() - start_time\n",
    "        \n",
    "        results.append({\n",
    "            \"question\": question,\n",
    "            \"correct_answers\": \", \".join(correct_answers),\n",
    "            \"incorrect_answers\": \", \".join(incorrect_answers),\n",
    "            \"rag_answer\": rag_answer,\n",
    "            \"base_llm_answer\": base_llm_answer,\n",
    "            \"rag_response_time_seconds\": rag_time,\n",
    "            \"base_llm_response_time_seconds\": base_llm_time\n",
    "        })\n",
    "        logging.info(f\"Processed TruthfulQA question {i + 1}/{total_questions}\")\n",
    "\n",
    "    df = pd.DataFrame(results)\n",
    "    df.to_csv(output_path, index=False, encoding=\"utf-8-sig\")\n",
    "    logging.info(f\"TruthfulQA evaluation complete. Results saved to '{output_path}'\")"
   ]
  },
  {
   "cell_type": "code",
   "execution_count": 14,
   "id": "24ae2a4f-2465-4790-9f7d-8100b9983cc7",
   "metadata": {},
   "outputs": [],
   "source": [
    "# ==================================================================================================\n",
    "# --- 4. Main Execution Block ---\n",
    "# ==================================================================================================\n",
    "\n",
    "def main():\n",
    "    \"\"\"Main function to orchestrate the general knowledge evaluation.\"\"\"\n",
    "    total_start_time = time.time()\n",
    "\n",
    "    # --- Evaluation-Specific Configuration ---\n",
    "    eval_config = SimpleNamespace(\n",
    "        BASE_DIR=project_root,\n",
    "        RAW_DOC_FOLDER=project_root / \"data\" / \"raw_documents\",\n",
    "        PROCESSED_DOC_FOLDER=project_root / \"data\" / \"processed_output\",\n",
    "        PERSIST_DIRECTORY=project_root / \"chroma_db\",\n",
    "        PREPROCESSING_SCRIPT_NAME=project_root / \"code\" / \"core\" / \"pre-processing.py\",\n",
    "        MODEL_NAME=\"MLME_chatbot\",\n",
    "        EMBEDDING_MODEL=\"sentence-transformers/paraphrase-multilingual-MiniLM-L12-v2\",\n",
    "        RERANKER_MODEL=\"mixedbread-ai/mxbai-rerank-xsmall-v1\",\n",
    "        OLLAMA_METADATA_MODEL=\"gemma3:4b\",\n",
    "        VECTOR_STORE_NAME=\"rag_store_MLME\",\n",
    "        CHUNK_SIZE=1250,\n",
    "        OVERLAP_SIZE=250,\n",
    "        INITIAL_RETRIEVAL_K=6,\n",
    "        TOP_N_RERANKED=3,\n",
    "        METADATA_GENERATION_CHAR_LIMIT=40000\n",
    "    )\n",
    "    \n",
    "    # --- General Knowledge Evaluation Settings ---\n",
    "    BASE_MODEL_NAME = 'gemma3:4b'\n",
    "    DATASET_SUBSET_SIZE = 100\n",
    "    OUTPUT_DIR = project_root / \"evaluation_results\" / \"general_knowledge\"\n",
    "    OUTPUT_DIR.mkdir(parents=True, exist_ok=True)\n",
    "    TRIVIAQA_OUTPUT_FILE = OUTPUT_DIR / \"triviaqa_evaluation.csv\"\n",
    "    TRUTHFULQA_OUTPUT_FILE = OUTPUT_DIR / \"truthfulqa_evaluation.csv\"\n",
    "\n",
    "    try:\n",
    "        # --- Initialization ---\n",
    "        logging.info(\"Initializing RAG system for general knowledge evaluation...\")\n",
    "        rag_chain, _, _ = setup_chatbot(eval_config)\n",
    "        logging.info(\"RAG system initialization complete.\")\n",
    "\n",
    "        # --- Dataset Loading ---\n",
    "        logging.info(f\"Loading first {DATASET_SUBSET_SIZE} questions from datasets...\")\n",
    "        trivia_qa_dataset = load_dataset(\"trivia_qa\", \"rc.nocontext\", split=f\"validation[:{DATASET_SUBSET_SIZE}]\", trust_remote_code=True)\n",
    "        truthful_qa_dataset = load_dataset(\"truthful_qa\", \"generation\", split=f\"validation[:{DATASET_SUBSET_SIZE}]\")\n",
    "        logging.info(\"Datasets loaded.\")\n",
    "\n",
    "        # --- Run Evaluations ---\n",
    "        evaluate_on_triviaqa(rag_chain, BASE_MODEL_NAME, trivia_qa_dataset, TRIVIAQA_OUTPUT_FILE)\n",
    "        evaluate_on_truthfulqa(rag_chain, BASE_MODEL_NAME, truthful_qa_dataset, TRUTHFULQA_OUTPUT_FILE)\n",
    "\n",
    "        total_end_time = time.time()\n",
    "        logging.info(f\"All evaluations finished successfully in {total_end_time - total_start_time:.2f} seconds.\")\n",
    "\n",
    "    except Exception as e:\n",
    "        logging.error(f\"An unexpected error occurred during the evaluation: {e}\")"
   ]
  },
  {
   "cell_type": "code",
   "execution_count": null,
   "id": "72e049d2-9c25-492d-a13a-d6bb39fd8c85",
   "metadata": {},
   "outputs": [
    {
     "name": "stderr",
     "output_type": "stream",
     "text": [
      "2025-08-19 19:50:01 - [INFO] - Initializing RAG system for general knowledge evaluation...\n",
      "2025-08-19 19:50:01 - [INFO] - --- Starting Full RAG Chatbot System Setup ---\n",
      "2025-08-19 19:50:01 - [INFO] - Executing external pre-processing script: C:\\Master's_Thesis\\code\\core\\pre-processing.py...\n",
      "2025-08-19 19:50:04 - [INFO] - Pre-processing script completed successfully.\n",
      "2025-08-19 19:50:04 - [WARNING] - SCRIPT STDERR: 2025-08-19 19:50:04,765 - [INFO] - HTTP Request: POST http://127.0.0.1:11434/api/show \"HTTP/1.1 200 OK\"\n",
      "2025-08-19 19:50:04,767 - [INFO] - Successfully connected to Ollama and found model 'gemma3:4b'.\n",
      "2025-08-19 19:50:04,768 - [INFO] - Output for 'CRISP_Paper.pdf' already exists. Skipping.\n",
      "2025-08-19 19:50:04,768 - [INFO] - Output for 'Ethics_Discrimination_algo_bias.pdf' already exists. Skipping.\n",
      "2025-08-19 19:50:04,768 - [INFO] - Output for 'Feedback Loops in Machine Learning_ A Study on the Interplay of.pdf' already exists. Skipping.\n",
      "2025-08-19 19:50:04,768 - [INFO] - Output for 'lecture_01.pdf' already exists. Skipping.\n",
      "2025-08-19 19:50:04,768 - [INFO] - Output for 'lecture_02.pdf' already exists. Skipping.\n",
      "2025-08-19 19:50:04,768 - [INFO] - Output for 'lecture_02_transcript.txt' already exists. Skipping.\n",
      "2025-08-19 19:50:04,768 - [INFO] - Output for 'lecture_03.pdf' already exists. Skipping.\n",
      "2025-08-19 19:50:04,769 - [INFO] - Output for 'lecture_03_transcript.txt' already exists. Skipping.\n",
      "2025-08-19 19:50:04,769 - [INFO] - Output for 'lecture_04.pdf' already exists. Skipping.\n",
      "2025-08-19 19:50:04,769 - [INFO] - Output for 'lecture_05.pdf' already exists. Skipping.\n",
      "2025-08-19 19:50:04,769 - [INFO] - Output for 'lecture_05_transcript.txt' already exists. Skipping.\n",
      "2025-08-19 19:50:04,769 - [INFO] - Output for 'lecture_06.pdf' already exists. Skipping.\n",
      "2025-08-19 19:50:04,769 - [INFO] - Output for 'lecture_07.pdf' already exists. Skipping.\n",
      "2025-08-19 19:50:04,769 - [INFO] - Output for 'lecture_08.pdf' already exists. Skipping.\n",
      "2025-08-19 19:50:04,769 - [INFO] - Output for 'lecture_09.pdf' already exists. Skipping.\n",
      "2025-08-19 19:50:04,770 - [INFO] - Output for 'lecture_10.pdf' already exists. Skipping.\n",
      "2025-08-19 19:50:04,770 - [INFO] - Output for 'lecture_11.pdf' already exists. Skipping.\n",
      "2025-08-19 19:50:04,770 - [INFO] - Output for 'lecture_information.txt' already exists. Skipping.\n",
      "2025-08-19 19:50:04,770 - [INFO] - Output for 'von-zahn-et-al-2024-smart-green-nudging-reducing-product-returns-through-digital-footprints-and-causal-machine-learning.pdf' already exists. Skipping.\n",
      "\n",
      "2025-08-19 19:50:04 - [INFO] - Initializing Ollama model...\n",
      "2025-08-19 19:50:04 - [INFO] - HTTP Request: GET http://127.0.0.1:11434/api/tags \"HTTP/1.1 200 OK\"\n",
      "2025-08-19 19:50:04 - [INFO] - Model 'MLME_chatbot' not found. Creating it now...\n",
      "2025-08-19 19:50:05 - [INFO] - HTTP Request: POST http://127.0.0.1:11434/api/create \"HTTP/1.1 200 OK\"\n",
      "2025-08-19 19:50:05 - [INFO] - Custom model 'MLME_chatbot' created successfully.\n",
      "2025-08-19 19:50:05 - [INFO] - Initializing embedding model: sentence-transformers/paraphrase-multilingual-MiniLM-L12-v2\n",
      "C:\\Master's_Thesis\\code\\core\\rag_setup.py:323: LangChainDeprecationWarning: The class `HuggingFaceEmbeddings` was deprecated in LangChain 0.2.2 and will be removed in 1.0. An updated version of the class exists in the :class:`~langchain-huggingface package and should be used instead. To use it run `pip install -U :class:`~langchain-huggingface` and import as `from :class:`~langchain_huggingface import HuggingFaceEmbeddings``.\n",
      "  embeddings = HuggingFaceEmbeddings(\n",
      "2025-08-19 19:50:10 - [INFO] - Load pretrained SentenceTransformer: sentence-transformers/paraphrase-multilingual-MiniLM-L12-v2\n",
      "C:\\Master's_Thesis\\code\\core\\rag_setup.py:199: LangChainDeprecationWarning: The class `Chroma` was deprecated in LangChain 0.2.9 and will be removed in 1.0. An updated version of the class exists in the :class:`~langchain-chroma package and should be used instead. To use it run `pip install -U :class:`~langchain-chroma` and import as `from :class:`~langchain_chroma import Chroma``.\n",
      "  vector_db = Chroma(\n",
      "2025-08-19 19:50:17 - [INFO] - Anonymized telemetry enabled. See                     https://docs.trychroma.com/telemetry for more information.\n",
      "2025-08-19 19:50:17 - [INFO] - Vector database is up-to-date. No new documents to ingest.\n",
      "2025-08-19 19:50:18 - [INFO] - Initializing re-ranker model: mixedbread-ai/mxbai-rerank-xsmall-v1\n",
      "2025-08-19 19:50:19 - [INFO] - Use pytorch device: cuda\n",
      "2025-08-19 19:50:19 - [INFO] - Re-ranking retriever created. Will retrieve 6 docs and keep the top 3.\n",
      "C:\\Master's_Thesis\\code\\core\\rag_setup.py:363: LangChainDeprecationWarning: Please see the migration guide at: https://python.langchain.com/docs/versions/migrating_memory/\n",
      "  memory = ConversationBufferWindowMemory(\n",
      "2025-08-19 19:50:19 - [INFO] - Creating the conversational retrieval chain...\n",
      "2025-08-19 19:50:19 - [INFO] - Conversational chain created successfully.\n",
      "2025-08-19 19:50:19 - [INFO] - --- RAG Chatbot Setup Complete ---\n",
      "2025-08-19 19:50:19 - [INFO] - RAG system initialization complete.\n",
      "2025-08-19 19:50:19 - [INFO] - Loading first 100 questions from datasets...\n",
      "`trust_remote_code` is not supported anymore.\n",
      "Please check that the Hugging Face dataset 'trivia_qa' isn't based on a loading script and remove `trust_remote_code`.\n",
      "If the dataset is based on a loading script, please ask the dataset author to remove it and convert it to a standard format like Parquet.\n",
      "2025-08-19 19:50:19 - [ERROR] - `trust_remote_code` is not supported anymore.\n",
      "Please check that the Hugging Face dataset 'trivia_qa' isn't based on a loading script and remove `trust_remote_code`.\n",
      "If the dataset is based on a loading script, please ask the dataset author to remove it and convert it to a standard format like Parquet.\n"
     ]
    },
    {
     "data": {
      "application/vnd.jupyter.widget-view+json": {
       "model_id": "796b04b953084bbfa48d276d97792f0d",
       "version_major": 2,
       "version_minor": 0
      },
      "text/plain": [
       "Resolving data files:   0%|          | 0/26 [00:00<?, ?it/s]"
      ]
     },
     "metadata": {},
     "output_type": "display_data"
    },
    {
     "name": "stderr",
     "output_type": "stream",
     "text": [
      "2025-08-19 19:50:29 - [INFO] - Datasets loaded.\n",
      "2025-08-19 19:50:29 - [INFO] - --- Starting Evaluation on TriviaQA (100 questions) ---\n"
     ]
    },
    {
     "data": {
      "application/vnd.jupyter.widget-view+json": {
       "model_id": "9954ee6f80f8415d9ec3a2d3c8e13489",
       "version_major": 2,
       "version_minor": 0
      },
      "text/plain": [
       "Batches:   0%|          | 0/1 [00:00<?, ?it/s]"
      ]
     },
     "metadata": {},
     "output_type": "display_data"
    },
    {
     "name": "stderr",
     "output_type": "stream",
     "text": [
      "2025-08-19 19:50:47 - [INFO] - HTTP Request: POST http://127.0.0.1:11434/api/chat \"HTTP/1.1 200 OK\"\n",
      "2025-08-19 19:51:10 - [INFO] - HTTP Request: POST http://127.0.0.1:11434/api/chat \"HTTP/1.1 200 OK\"\n",
      "2025-08-19 19:51:10 - [INFO] - Processed TriviaQA question 1/100\n",
      "2025-08-19 19:51:10 - [INFO] - HTTP Request: POST http://127.0.0.1:11434/api/chat \"HTTP/1.1 200 OK\"\n"
     ]
    },
    {
     "data": {
      "application/vnd.jupyter.widget-view+json": {
       "model_id": "05d34c52562a413da93b2703f9b5833b",
       "version_major": 2,
       "version_minor": 0
      },
      "text/plain": [
       "Batches:   0%|          | 0/1 [00:00<?, ?it/s]"
      ]
     },
     "metadata": {},
     "output_type": "display_data"
    },
    {
     "name": "stderr",
     "output_type": "stream",
     "text": [
      "2025-08-19 19:51:13 - [INFO] - HTTP Request: POST http://127.0.0.1:11434/api/chat \"HTTP/1.1 200 OK\"\n",
      "2025-08-19 19:51:16 - [INFO] - HTTP Request: POST http://127.0.0.1:11434/api/chat \"HTTP/1.1 200 OK\"\n",
      "2025-08-19 19:51:16 - [INFO] - Processed TriviaQA question 2/100\n",
      "2025-08-19 19:51:17 - [INFO] - HTTP Request: POST http://127.0.0.1:11434/api/chat \"HTTP/1.1 200 OK\"\n"
     ]
    },
    {
     "data": {
      "application/vnd.jupyter.widget-view+json": {
       "model_id": "3588ffd6cc6148f4bcc36bd52d90723e",
       "version_major": 2,
       "version_minor": 0
      },
      "text/plain": [
       "Batches:   0%|          | 0/1 [00:00<?, ?it/s]"
      ]
     },
     "metadata": {},
     "output_type": "display_data"
    },
    {
     "name": "stderr",
     "output_type": "stream",
     "text": [
      "2025-08-19 19:51:20 - [INFO] - HTTP Request: POST http://127.0.0.1:11434/api/chat \"HTTP/1.1 200 OK\"\n",
      "2025-08-19 19:51:24 - [INFO] - HTTP Request: POST http://127.0.0.1:11434/api/chat \"HTTP/1.1 200 OK\"\n",
      "2025-08-19 19:51:24 - [INFO] - Processed TriviaQA question 3/100\n",
      "2025-08-19 19:51:24 - [INFO] - HTTP Request: POST http://127.0.0.1:11434/api/chat \"HTTP/1.1 200 OK\"\n"
     ]
    },
    {
     "data": {
      "application/vnd.jupyter.widget-view+json": {
       "model_id": "e4b6fb557c4043ff8dd47faab61e9833",
       "version_major": 2,
       "version_minor": 0
      },
      "text/plain": [
       "Batches:   0%|          | 0/1 [00:00<?, ?it/s]"
      ]
     },
     "metadata": {},
     "output_type": "display_data"
    },
    {
     "name": "stderr",
     "output_type": "stream",
     "text": [
      "2025-08-19 19:51:28 - [INFO] - HTTP Request: POST http://127.0.0.1:11434/api/chat \"HTTP/1.1 200 OK\"\n",
      "2025-08-19 19:51:32 - [INFO] - HTTP Request: POST http://127.0.0.1:11434/api/chat \"HTTP/1.1 200 OK\"\n",
      "2025-08-19 19:51:32 - [INFO] - Processed TriviaQA question 4/100\n",
      "2025-08-19 19:51:32 - [INFO] - HTTP Request: POST http://127.0.0.1:11434/api/chat \"HTTP/1.1 200 OK\"\n"
     ]
    },
    {
     "data": {
      "application/vnd.jupyter.widget-view+json": {
       "model_id": "42815dd55179481e8e57a4cc704d3e84",
       "version_major": 2,
       "version_minor": 0
      },
      "text/plain": [
       "Batches:   0%|          | 0/1 [00:00<?, ?it/s]"
      ]
     },
     "metadata": {},
     "output_type": "display_data"
    },
    {
     "name": "stderr",
     "output_type": "stream",
     "text": [
      "2025-08-19 19:51:35 - [INFO] - HTTP Request: POST http://127.0.0.1:11434/api/chat \"HTTP/1.1 200 OK\"\n"
     ]
    }
   ],
   "source": [
    "if __name__ == \"__main__\":\n",
    "    main()"
   ]
  },
  {
   "cell_type": "code",
   "execution_count": null,
   "id": "8569cdd8-8ef2-4214-a1c2-876e8e2c67c2",
   "metadata": {},
   "outputs": [],
   "source": []
  }
 ],
 "metadata": {
  "kernelspec": {
   "display_name": "Python 3 (ipykernel)",
   "language": "python",
   "name": "python3"
  },
  "language_info": {
   "codemirror_mode": {
    "name": "ipython",
    "version": 3
   },
   "file_extension": ".py",
   "mimetype": "text/x-python",
   "name": "python",
   "nbconvert_exporter": "python",
   "pygments_lexer": "ipython3",
   "version": "3.13.3"
  }
 },
 "nbformat": 4,
 "nbformat_minor": 5
}
